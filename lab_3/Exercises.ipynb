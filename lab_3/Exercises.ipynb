{
 "cells": [
  {
   "cell_type": "code",
   "execution_count": null,
   "metadata": {},
   "outputs": [],
   "source": [
    "from pylab import *\n",
    "import random as pyrandom\n",
    "from scipy.spatial.distance import cdist\n",
    "matplotlib.rc(\"image\", cmap=\"gray\")\n",
    "from collections import Counter\n",
    "%pylab inline"
   ]
  },
  {
   "cell_type": "code",
   "execution_count": null,
   "metadata": {},
   "outputs": [],
   "source": [
    "data = r_[10*randn(1000,2)+array([70,30]),\n",
    "          10*randn(1000,2)+array([10,10]),\n",
    "          10*randn(1000,2)+array([50,80])]\n",
    "data = data[pyrandom.sample(range(len(data)),len(data))]"
   ]
  },
  {
   "cell_type": "code",
   "execution_count": null,
   "metadata": {},
   "outputs": [],
   "source": [
    "figsize(10,10)\n",
    "plot(data[:,0],data[:,1],'b+')"
   ]
  },
  {
   "cell_type": "code",
   "execution_count": null,
   "metadata": {},
   "outputs": [],
   "source": [
    "protos = array([[30,30],[40,20],[0,90],[50,50]]) # Initialize centroids\n",
    "start = protos.copy()\n",
    "\n",
    "figsize(10,10)\n",
    "plot(data[:,0],data[:,1],'b+')\n",
    "plot(protos[:,0],protos[:,1],'ro',markersize=10)"
   ]
  },
  {
   "cell_type": "code",
   "execution_count": null,
   "metadata": {},
   "outputs": [],
   "source": [
    "figsize(10,10)\n",
    "dists = cdist(protos,data)\n",
    "closest = argmin(dists,axis=0)\n",
    "for i in range(len(protos)):\n",
    "    plot(data[closest==i,0],data[closest==i,1],['c+','g+','b+','y+'][i])\n",
    "plot(protos[:,0],protos[:,1],'ro',markersize=10)"
   ]
  },
  {
   "cell_type": "code",
   "execution_count": null,
   "metadata": {},
   "outputs": [],
   "source": [
    "history = [protos.copy()]\n",
    "\n",
    "for i in range(len(protos)):\n",
    "    protos[i,:] = average(data[closest==i],axis=0)\n",
    "    \n",
    "history.append(protos.copy())"
   ]
  },
  {
   "cell_type": "code",
   "execution_count": null,
   "metadata": {},
   "outputs": [],
   "source": [
    "# Plotting the centroid movements\n",
    "figsize(10,10)\n",
    "plot(data[:,0],data[:,1],'b+')\n",
    "harray = array(history)\n",
    "for i in range(len(protos)):\n",
    "    plot(harray[:,i,0],harray[:,i,1],'r')\n",
    "plot(harray[0,:,0],harray[0,:,1],'ko',markersize=10)\n",
    "plot(protos[:,0],protos[:,1],'ro',markersize=10)"
   ]
  },
  {
   "cell_type": "code",
   "execution_count": null,
   "metadata": {},
   "outputs": [],
   "source": [
    "for round in range(1000):\n",
    "    if round%100==0: sys.stderr.write(\"%d \"%round)\n",
    "    dists = cdist(protos,data)\n",
    "    closest = argmin(dists,axis=0)\n",
    "    for i in range(len(protos)):\n",
    "            protos[i,:] = average(data[closest==i],axis=0)\n",
    "    history.append(protos.copy())"
   ]
  },
  {
   "cell_type": "code",
   "execution_count": null,
   "metadata": {},
   "outputs": [],
   "source": [
    "figsize(10,10)\n",
    "plot(data[:,0],data[:,1],'b+')\n",
    "history = array(history)\n",
    "for i in range(len(protos)):\n",
    "    plot(history[:,i,0],history[:,i,1],'r')\n",
    "plot(history[0,:,0],history[0,:,1],'ko',markersize=10)\n",
    "plot(protos[:,0],protos[:,1],'ro',markersize=10)"
   ]
  },
  {
   "cell_type": "code",
   "execution_count": null,
   "metadata": {},
   "outputs": [],
   "source": [
    "figsize(10,10)\n",
    "dists = cdist(protos,data)\n",
    "closest = argmin(dists,axis=0)\n",
    "for i in range(len(protos)):\n",
    "  plot(data[closest==i,0],data[closest==i,1],['c+','g+','b+','y+'][i])\n",
    "plot(protos[:,0],protos[:,1],'ro',markersize=10)"
   ]
  },
  {
   "cell_type": "markdown",
   "metadata": {},
   "source": [
    "### Hierachical Clustering"
   ]
  },
  {
   "cell_type": "code",
   "execution_count": null,
   "metadata": {},
   "outputs": [],
   "source": [
    "import random as pyrandom\n",
    "from scipy.spatial.distance import cdist\n",
    "figsize(6,6)"
   ]
  },
  {
   "cell_type": "code",
   "execution_count": null,
   "metadata": {},
   "outputs": [],
   "source": [
    "ccolors = ['go', 'ro','bo','mo','co','yo']\n",
    "def plotclusters(data,centers=None):\n",
    "    xlim([0,100]); ylim([0,100])\n",
    "    if centers is None:\n",
    "        plot(data[:,0],data[:,1],'bo',markersize=5)\n",
    "    else:\n",
    "        for i in range(amax(centers)+1):\n",
    "            plot(data[centers==i,0],data[centers==i,1],\n",
    "                 ccolors[i%len(ccolors)],markersize=5)"
   ]
  },
  {
   "cell_type": "code",
   "execution_count": null,
   "metadata": {},
   "outputs": [],
   "source": [
    "data = r_[4*randn(10,2)+array([70,50]),\n",
    "          4*randn(10,2)+array([30,50])]\n",
    "# shuffle(data)\n",
    "plotclusters(data)"
   ]
  },
  {
   "cell_type": "code",
   "execution_count": null,
   "metadata": {},
   "outputs": [],
   "source": [
    "from scipy.spatial.distance import cdist\n",
    "ds = cdist(data,data)"
   ]
  },
  {
   "cell_type": "code",
   "execution_count": null,
   "metadata": {},
   "outputs": [],
   "source": [
    "from scipy.cluster.hierarchy import *\n",
    "lm = linkage(ds,\"single\")\n",
    "lm[:5]"
   ]
  },
  {
   "cell_type": "code",
   "execution_count": null,
   "metadata": {},
   "outputs": [],
   "source": [
    "_=dendrogram(lm)"
   ]
  },
  {
   "cell_type": "code",
   "execution_count": null,
   "metadata": {},
   "outputs": [],
   "source": [
    "plotclusters(data,fcluster(lm,2,criterion='maxclust'))"
   ]
  },
  {
   "cell_type": "code",
   "execution_count": null,
   "metadata": {},
   "outputs": [],
   "source": [
    "data = r_[dot(randn(100,2),diag([4,10]))+array([60,60]),\n",
    "           dot(randn(100,2),diag([4,10]))+array([40,40])]\n",
    "shuffle(data)"
   ]
  },
  {
   "cell_type": "code",
   "execution_count": null,
   "metadata": {},
   "outputs": [],
   "source": [
    "assignment = fclusterdata(data,2,metric='euclidean',method='single',criterion='maxclust')\n",
    "plotclusters(data,assignment)"
   ]
  },
  {
   "cell_type": "code",
   "execution_count": null,
   "metadata": {},
   "outputs": [],
   "source": [
    "assignment = fclusterdata(data,4,metric='euclidean',method='single',criterion='maxclust')\n",
    "plotclusters(data,assignment)"
   ]
  },
  {
   "cell_type": "code",
   "execution_count": null,
   "metadata": {},
   "outputs": [],
   "source": [
    "assignment = fclusterdata(data,2,metric='euclidean',method='complete',criterion='maxclust')\n",
    "plotclusters(data,assignment)"
   ]
  },
  {
   "cell_type": "code",
   "execution_count": null,
   "metadata": {},
   "outputs": [],
   "source": [
    "assignment = fclusterdata(data,4,metric='euclidean',method='complete',criterion='maxclust')\n",
    "plotclusters(data,assignment)"
   ]
  },
  {
   "cell_type": "code",
   "execution_count": null,
   "metadata": {},
   "outputs": [],
   "source": [
    "assignment = fclusterdata(data,2,metric='euclidean',method='average',criterion='maxclust')\n",
    "plotclusters(data,assignment)"
   ]
  },
  {
   "cell_type": "code",
   "execution_count": null,
   "metadata": {
    "scrolled": true
   },
   "outputs": [],
   "source": [
    "assignment = fclusterdata(data,4,metric='euclidean',method='average',criterion='maxclust')\n",
    "plotclusters(data,assignment)"
   ]
  },
  {
   "cell_type": "code",
   "execution_count": null,
   "metadata": {},
   "outputs": [],
   "source": [
    "lm = linkage(data,metric='euclidean',method='centroid')\n",
    "assignment = fcluster(lm,2,criterion='maxclust')\n",
    "plotclusters(data,assignment)"
   ]
  },
  {
   "cell_type": "code",
   "execution_count": null,
   "metadata": {},
   "outputs": [],
   "source": [
    "lm = linkage(data,metric='euclidean',method='centroid')\n",
    "assignment = fcluster(lm,4,criterion='maxclust')\n",
    "plotclusters(data,assignment)"
   ]
  },
  {
   "cell_type": "code",
   "execution_count": null,
   "metadata": {},
   "outputs": [],
   "source": [
    "lm = linkage(data,metric='euclidean',method='ward')\n",
    "assignment = fcluster(lm,2,criterion='maxclust')\n",
    "plotclusters(data,assignment)"
   ]
  },
  {
   "cell_type": "code",
   "execution_count": null,
   "metadata": {},
   "outputs": [],
   "source": [
    "lm = linkage(data,metric='euclidean',method='ward')\n",
    "assignment = fcluster(lm,4,criterion='maxclust')\n",
    "plotclusters(data,assignment)"
   ]
  }
 ],
 "metadata": {
  "kernelspec": {
   "display_name": "Python 3",
   "language": "python",
   "name": "python3"
  },
  "language_info": {
   "codemirror_mode": {
    "name": "ipython",
    "version": 3
   },
   "file_extension": ".py",
   "mimetype": "text/x-python",
   "name": "python",
   "nbconvert_exporter": "python",
   "pygments_lexer": "ipython3",
   "version": "3.8.6"
  }
 },
 "nbformat": 4,
 "nbformat_minor": 5
}
