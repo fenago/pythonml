{
 "cells": [
  {
   "cell_type": "code",
   "execution_count": null,
   "metadata": {},
   "outputs": [],
   "source": [
    "import numpy as np\n",
    "import pandas as pd\n",
    "import matplotlib.pyplot as plt\n",
    "import seaborn as sns\n",
    "from mpl_toolkits.mplot3d import Axes3D\n",
    "%matplotlib inline"
   ]
  },
  {
   "cell_type": "code",
   "execution_count": null,
   "metadata": {},
   "outputs": [],
   "source": [
    "data = pd.read_csv(\"Mall_Customers.csv\")\n",
    "data.head()"
   ]
  },
  {
   "cell_type": "code",
   "execution_count": null,
   "metadata": {},
   "outputs": [],
   "source": [
    "data.shape"
   ]
  },
  {
   "cell_type": "code",
   "execution_count": null,
   "metadata": {},
   "outputs": [],
   "source": [
    "data.info()"
   ]
  },
  {
   "cell_type": "code",
   "execution_count": null,
   "metadata": {},
   "outputs": [],
   "source": [
    "data.corr()"
   ]
  },
  {
   "cell_type": "code",
   "execution_count": null,
   "metadata": {},
   "outputs": [],
   "source": [
    "#Distribution of Annnual Income\n",
    "plt.figure(figsize=(10, 6))\n",
    "sns.set(style = 'whitegrid')\n",
    "sns.distplot(data['Annual Income (k$)'])\n",
    "plt.title('Distribution of Annual Income (k$)', fontsize = 20)\n",
    "plt.xlabel('Range of Annual Income (k$)')\n",
    "plt.ylabel('Count')"
   ]
  },
  {
   "cell_type": "code",
   "execution_count": null,
   "metadata": {},
   "outputs": [],
   "source": [
    "#Distribution of age\n",
    "plt.figure(figsize=(10, 6))\n",
    "sns.set(style = 'whitegrid')\n",
    "sns.distplot(data['Age'])\n",
    "plt.title('Distribution of Age', fontsize = 20)\n",
    "plt.xlabel('Range of Age')\n",
    "plt.ylabel('Count')"
   ]
  },
  {
   "cell_type": "code",
   "execution_count": null,
   "metadata": {},
   "outputs": [],
   "source": [
    "#Distribution of spending score\n",
    "plt.figure(figsize=(10, 6))\n",
    "sns.set(style = 'whitegrid')\n",
    "sns.distplot(data['Spending Score (1-100)'])\n",
    "plt.title('Distribution of Spending Score (1-100)', fontsize = 20)\n",
    "plt.xlabel('Range of Spending Score (1-100)')\n",
    "plt.ylabel('Count')"
   ]
  },
  {
   "cell_type": "code",
   "execution_count": null,
   "metadata": {},
   "outputs": [],
   "source": [
    "genders = data.Gender.value_counts()\n",
    "sns.set_style(\"darkgrid\")\n",
    "plt.figure(figsize=(10,4))\n",
    "sns.barplot(x=genders.index, y=genders.values)\n",
    "plt.show()"
   ]
  },
  {
   "cell_type": "code",
   "execution_count": null,
   "metadata": {},
   "outputs": [],
   "source": [
    "df1=data[[\"CustomerID\",\"Gender\",\"Age\",\"Annual Income (k$)\",\n",
    "          \"Spending Score (1-100)\"]]\n",
    "X=df1[[\"Annual Income (k$)\",\"Spending Score (1-100)\"]]"
   ]
  },
  {
   "cell_type": "code",
   "execution_count": null,
   "metadata": {},
   "outputs": [],
   "source": [
    "X.head()"
   ]
  },
  {
   "cell_type": "code",
   "execution_count": null,
   "metadata": {},
   "outputs": [],
   "source": [
    "plt.figure(figsize=(10,6))\n",
    "sns.scatterplot(x = 'Annual Income (k$)',y = 'Spending Score (1-100)',  data = X  ,s = 60 )\n",
    "plt.xlabel('Annual Income (k$)')\n",
    "plt.ylabel('Spending Score (1-100)') \n",
    "plt.title('Spending Score (1-100) vs Annual Income (k$)')\n",
    "plt.show()"
   ]
  },
  {
   "cell_type": "code",
   "execution_count": null,
   "metadata": {},
   "outputs": [],
   "source": [
    "from sklearn.cluster import KMeans"
   ]
  },
  {
   "cell_type": "code",
   "execution_count": null,
   "metadata": {},
   "outputs": [],
   "source": [
    "wcss=[]\n",
    "for i in range(1,11):\n",
    "    km=KMeans(n_clusters=i)\n",
    "    km.fit(X)\n",
    "    wcss.append(km.inertia_)"
   ]
  },
  {
   "cell_type": "code",
   "execution_count": null,
   "metadata": {},
   "outputs": [],
   "source": [
    "plt.figure(figsize=(12,6))\n",
    "plt.plot(range(1,11),wcss)\n",
    "plt.plot(range(1,11),wcss, linewidth=2, color=\"red\", marker =\"8\")\n",
    "plt.xlabel(\"K Value\")\n",
    "plt.xticks(np.arange(1,11,1))\n",
    "plt.ylabel(\"WCSS\")\n",
    "plt.show()"
   ]
  },
  {
   "cell_type": "code",
   "execution_count": null,
   "metadata": {},
   "outputs": [],
   "source": [
    "km1=KMeans(n_clusters=5)\n",
    "#Fitting the input data\n",
    "km1.fit(X)\n",
    "#predicting the labels of the input data\n",
    "y=km1.predict(X)\n",
    "#adding the labels to a column named label\n",
    "df1[\"label\"] = y\n",
    "#The new dataframe with the clustering done\n",
    "df1.head()"
   ]
  },
  {
   "cell_type": "code",
   "execution_count": null,
   "metadata": {},
   "outputs": [],
   "source": [
    "plt.figure(figsize=(10,6))\n",
    "sns.scatterplot(x = 'Annual Income (k$)',y = 'Spending Score (1-100)',\n",
    "                hue=\"label\",  \n",
    "                 palette=['green','orange','brown','dodgerblue','red'], \n",
    "                legend='full',data = df1  ,s = 60 )\n",
    "plt.xlabel('Annual Income (k$)')\n",
    "plt.ylabel('Spending Score (1-100)') \n",
    "plt.title('Spending Score (1-100) vs Annual Income (k$)')\n",
    "plt.show()"
   ]
  },
  {
   "cell_type": "code",
   "execution_count": null,
   "metadata": {},
   "outputs": [],
   "source": [
    "cust1=df1[df1[\"label\"]==1]\n",
    "print('Number of customer in 1st group=', len(cust1))\n",
    "print('They are -', cust1[\"CustomerID\"].values)\n",
    "print(\"--------------------------------------------\")\n",
    "cust2=df1[df1[\"label\"]==2]\n",
    "print('Number of customer in 2nd group=', len(cust2))\n",
    "print('They are -', cust2[\"CustomerID\"].values)\n",
    "print(\"--------------------------------------------\")\n",
    "cust3=df1[df1[\"label\"]==0]\n",
    "print('Number of customer in 3rd group=', len(cust3))\n",
    "print('They are -', cust3[\"CustomerID\"].values)\n",
    "print(\"--------------------------------------------\")\n",
    "cust4=df1[df1[\"label\"]==3]\n",
    "print('Number of customer in 4th group=', len(cust4))\n",
    "print('They are -', cust4[\"CustomerID\"].values)\n",
    "print(\"--------------------------------------------\")\n",
    "cust5=df1[df1[\"label\"]==4]\n",
    "print('Number of customer in 5th group=', len(cust5))\n",
    "print('They are -', cust5[\"CustomerID\"].values)\n",
    "print(\"--------------------------------------------\")"
   ]
  },
  {
   "cell_type": "code",
   "execution_count": null,
   "metadata": {},
   "outputs": [],
   "source": [
    "df2=data[[\"CustomerID\",\"Gender\",\"Age\",\"Annual Income (k$)\",\n",
    "          \"Spending Score (1-100)\"]]\n",
    "df2.head()"
   ]
  },
  {
   "cell_type": "code",
   "execution_count": null,
   "metadata": {},
   "outputs": [],
   "source": [
    "X2=df2[[\"Age\",\"Annual Income (k$)\",\"Spending Score (1-100)\"]]"
   ]
  },
  {
   "cell_type": "code",
   "execution_count": null,
   "metadata": {},
   "outputs": [],
   "source": [
    "wcss = []\n",
    "for k in range(1,11):\n",
    "    kmeans = KMeans(n_clusters=k, init=\"k-means++\")\n",
    "    kmeans.fit(X2)\n",
    "    wcss.append(kmeans.inertia_)"
   ]
  },
  {
   "cell_type": "code",
   "execution_count": null,
   "metadata": {},
   "outputs": [],
   "source": [
    "plt.figure(figsize=(12,6))    \n",
    "\n",
    "plt.plot(range(1,11),wcss, linewidth=2, color=\"red\", marker =\"8\")\n",
    "plt.xlabel(\"K Value\")\n",
    "plt.xticks(np.arange(1,11,1))\n",
    "plt.ylabel(\"WCSS\")\n",
    "plt.show()"
   ]
  },
  {
   "cell_type": "code",
   "execution_count": null,
   "metadata": {},
   "outputs": [],
   "source": [
    "km2 = KMeans(n_clusters=5)\n",
    "y2 = km.fit_predict(X2)\n",
    "df2[\"label\"] = y2"
   ]
  },
  {
   "cell_type": "code",
   "execution_count": null,
   "metadata": {},
   "outputs": [],
   "source": [
    "df2.head()"
   ]
  },
  {
   "cell_type": "code",
   "execution_count": null,
   "metadata": {},
   "outputs": [],
   "source": [
    "#3D Plot as we did the clustering on the basis of 3 input features\n",
    "\n",
    "fig = plt.figure(figsize=(20,10))\n",
    "ax = fig.add_subplot(111, projection='3d')\n",
    "ax.scatter(df2.Age[df2.label == 0], df2[\"Annual Income (k$)\"][df2.label == 0], \n",
    "           df2[\"Spending Score (1-100)\"][df2.label == 0], c='purple', s=60)\n",
    "ax.scatter(df2.Age[df2.label == 1], df2[\"Annual Income (k$)\"][df2.label == 1], \n",
    "           df2[\"Spending Score (1-100)\"][df2.label == 1], c='red', s=60)\n",
    "ax.scatter(df2.Age[df2.label == 2], df2[\"Annual Income (k$)\"][df2.label == 2], \n",
    "           df2[\"Spending Score (1-100)\"][df2.label == 2], c='blue', s=60)\n",
    "ax.scatter(df2.Age[df2.label == 3], df2[\"Annual Income (k$)\"][df2.label == 3], \n",
    "           df2[\"Spending Score (1-100)\"][df2.label == 3], c='green', s=60)\n",
    "ax.scatter(df2.Age[df2.label == 4], df2[\"Annual Income (k$)\"][df2.label == 4], \n",
    "           df2[\"Spending Score (1-100)\"][df2.label == 4], c='yellow', s=60)\n",
    "ax.view_init(35, 185)\n",
    "plt.xlabel(\"Age\")\n",
    "plt.ylabel(\"Annual Income (k$)\")\n",
    "ax.set_zlabel('Spending Score (1-100)')\n",
    "plt.show()"
   ]
  },
  {
   "cell_type": "code",
   "execution_count": null,
   "metadata": {},
   "outputs": [],
   "source": [
    "cust1=df2[df2[\"label\"]==1]\n",
    "print('Number of customer in 1st group=', len(cust1))\n",
    "print('They are -', cust1[\"CustomerID\"].values)\n",
    "print(\"--------------------------------------------\")\n",
    "cust2=df2[df2[\"label\"]==2]\n",
    "print('Number of customer in 2nd group=', len(cust2))\n",
    "print('They are -', cust2[\"CustomerID\"].values)\n",
    "print(\"--------------------------------------------\")\n",
    "cust3=df2[df2[\"label\"]==0]\n",
    "print('Number of customer in 3rd group=', len(cust3))\n",
    "print('They are -', cust3[\"CustomerID\"].values)\n",
    "print(\"--------------------------------------------\")\n",
    "cust4=df2[df2[\"label\"]==3]\n",
    "print('Number of customer in 4th group=', len(cust4))\n",
    "print('They are -', cust4[\"CustomerID\"].values)\n",
    "print(\"--------------------------------------------\")\n",
    "cust5=df2[df2[\"label\"]==4]\n",
    "print('Number of customer in 5th group=', len(cust5))\n",
    "print('They are -', cust5[\"CustomerID\"].values)\n",
    "print(\"--------------------------------------------\")"
   ]
  }
 ],
 "metadata": {
  "kernelspec": {
   "display_name": "Python 3",
   "language": "python",
   "name": "python3"
  },
  "language_info": {
   "codemirror_mode": {
    "name": "ipython",
    "version": 3
   },
   "file_extension": ".py",
   "mimetype": "text/x-python",
   "name": "python",
   "nbconvert_exporter": "python",
   "pygments_lexer": "ipython3",
   "version": "3.8.6"
  }
 },
 "nbformat": 4,
 "nbformat_minor": 5
}
