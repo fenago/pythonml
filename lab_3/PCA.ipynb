{
 "cells": [
  {
   "cell_type": "code",
   "execution_count": null,
   "metadata": {},
   "outputs": [],
   "source": [
    "import pandas as pd\n",
    "import numpy as np\n",
    "import matplotlib.pyplot as plt\n",
    "from sklearn.preprocessing import RobustScaler\n",
    "from sklearn.decomposition import PCA"
   ]
  },
  {
   "cell_type": "code",
   "execution_count": null,
   "metadata": {},
   "outputs": [],
   "source": [
    "data = pd.read_csv(r\"dataset_Facebook.csv\",sep = ';')\n",
    "data.drop(columns = 'Type',inplace = True) \n",
    "data.head()"
   ]
  },
  {
   "cell_type": "code",
   "execution_count": null,
   "metadata": {},
   "outputs": [],
   "source": [
    "data.describe()"
   ]
  },
  {
   "cell_type": "code",
   "execution_count": null,
   "metadata": {},
   "outputs": [],
   "source": [
    "rs = RobustScaler()\n",
    "scaled = pd.DataFrame(rs.fit_transform(data),columns = data.columns)\n",
    "scaled.head()"
   ]
  },
  {
   "cell_type": "code",
   "execution_count": null,
   "metadata": {},
   "outputs": [],
   "source": [
    "scaled_data = scaled.dropna()\n",
    "pca = PCA() \n",
    "pca.fit_transform(scaled_data)\n",
    "print(pca.explained_variance_ratio_)"
   ]
  },
  {
   "cell_type": "code",
   "execution_count": null,
   "metadata": {},
   "outputs": [],
   "source": [
    "def feature_weight(pca, n_comp, n_feat):\n",
    "    #df = pd.DataFrame(np.round(pca.components_,2),columns = scaled_data.columns)\n",
    "    comp = pd.DataFrame(np.round(pca.components_, 2), columns=scaled_data.keys()).iloc[n_comp - 1]\n",
    "    comp.sort_values(ascending=False, inplace=True)\n",
    "    comp = pd.concat([comp.head(n_feat), comp.tail(n_feat)])\n",
    "    comp.plot(kind='bar', title='Top {} weighted attributes for PCA component {}'.format(n_feat, n_comp))\n",
    "    plt.show()\n",
    "    return comp\n",
    "feature_weight(pca,0,3)"
   ]
  },
  {
   "cell_type": "code",
   "execution_count": null,
   "metadata": {},
   "outputs": [],
   "source": [
    "def screeplot(pca):\n",
    "    var_len = len(pca.explained_variance_ratio_)\n",
    "    indx = np.arange(var_len)\n",
    "    var_pca = pca.explained_variance_ratio_\n",
    "    plt.figure(figsize=(14, 8))\n",
    "    ax = plt.subplot()\n",
    "    cum_var = np.cumsum(var_pca)\n",
    "    ax.bar(indx, var_pca)\n",
    "    ax.plot(indx, cum_var)\n",
    "    ax.set_xlabel(\"Principal Components\")\n",
    "    ax.set_ylabel(\"Percentage Variance Explained\")\n",
    "    plt.title('Cumulative Variance Explained by Principal Components')\n",
    "screeplot(pca)"
   ]
  },
  {
   "cell_type": "code",
   "execution_count": null,
   "metadata": {},
   "outputs": [],
   "source": []
  }
 ],
 "metadata": {
  "kernelspec": {
   "display_name": "Python 3",
   "language": "python",
   "name": "python3"
  },
  "language_info": {
   "codemirror_mode": {
    "name": "ipython",
    "version": 3
   },
   "file_extension": ".py",
   "mimetype": "text/x-python",
   "name": "python",
   "nbconvert_exporter": "python",
   "pygments_lexer": "ipython3",
   "version": "3.8.6"
  }
 },
 "nbformat": 4,
 "nbformat_minor": 5
}
