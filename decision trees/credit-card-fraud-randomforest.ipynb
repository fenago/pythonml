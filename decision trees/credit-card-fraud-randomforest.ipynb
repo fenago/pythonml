{
 "cells": [
  {
   "cell_type": "markdown",
   "metadata": {
    "_cell_guid": "b1076dfc-b9ad-4769-8c92-a6c4dae69d19",
    "_uuid": "8f2839f25d086af736a60e9eeb907d3b93b6e0e5"
   },
   "source": [
    "# Credit Card Fraud Detection using random forest"
   ]
  },
  {
   "cell_type": "markdown",
   "metadata": {},
   "source": [
    "Steps\n",
    "1. Import libraries\n",
    "2. Import the datase\n",
    "3. Perform data analysis (data cleaning, data  manipulation, data visualization, EDA)\n",
    "4. Data Preprocessing - feature engineering (encoders, scaling, feature selection, hyper-parameter tuning)\n",
    "5. Splitting the dataset \n",
    "6. Model selection\n",
    "7. Train the model\n",
    "8. Test the model\n",
    "9. Performance metric"
   ]
  },
  {
   "cell_type": "code",
   "execution_count": null,
   "metadata": {
    "execution": {
     "iopub.execute_input": "2021-10-06T17:02:48.358886Z",
     "iopub.status.busy": "2021-10-06T17:02:48.358612Z",
     "iopub.status.idle": "2021-10-06T17:02:48.806960Z",
     "shell.execute_reply": "2021-10-06T17:02:48.806050Z",
     "shell.execute_reply.started": "2021-10-06T17:02:48.358815Z"
    }
   },
   "outputs": [],
   "source": [
    "import pandas as pd\n",
    "import numpy as np\n",
    "\n",
    "import matplotlib.pyplot as plt\n",
    "%matplotlib inline\n",
    "\n",
    "import seaborn as sns\n",
    "\n",
    "from sklearn.metrics import accuracy_score, confusion_matrix\n",
    "from sklearn.ensemble import RandomForestClassifier, ExtraTreesClassifier #for feature selection\n",
    "\n",
    "import warnings\n",
    "warnings.filterwarnings(\"ignore\")"
   ]
  },
  {
   "cell_type": "code",
   "execution_count": null,
   "metadata": {
    "execution": {
     "iopub.execute_input": "2021-10-06T17:02:48.808375Z",
     "iopub.status.busy": "2021-10-06T17:02:48.808115Z",
     "iopub.status.idle": "2021-10-06T17:02:51.312930Z",
     "shell.execute_reply": "2021-10-06T17:02:51.312213Z",
     "shell.execute_reply.started": "2021-10-06T17:02:48.808346Z"
    }
   },
   "outputs": [],
   "source": [
    "df = pd.read_csv('creditcard.csv')"
   ]
  },
  {
   "cell_type": "code",
   "execution_count": null,
   "metadata": {
    "execution": {
     "iopub.execute_input": "2021-10-06T17:02:51.314230Z",
     "iopub.status.busy": "2021-10-06T17:02:51.313983Z",
     "iopub.status.idle": "2021-10-06T17:02:51.344098Z",
     "shell.execute_reply": "2021-10-06T17:02:51.343080Z",
     "shell.execute_reply.started": "2021-10-06T17:02:51.314196Z"
    }
   },
   "outputs": [],
   "source": [
    "df.head()"
   ]
  },
  {
   "cell_type": "code",
   "execution_count": null,
   "metadata": {
    "execution": {
     "iopub.execute_input": "2021-10-06T17:02:51.346509Z",
     "iopub.status.busy": "2021-10-06T17:02:51.346199Z",
     "iopub.status.idle": "2021-10-06T17:02:51.352311Z",
     "shell.execute_reply": "2021-10-06T17:02:51.351542Z",
     "shell.execute_reply.started": "2021-10-06T17:02:51.346479Z"
    }
   },
   "outputs": [],
   "source": [
    "df.shape"
   ]
  },
  {
   "cell_type": "code",
   "execution_count": null,
   "metadata": {
    "execution": {
     "iopub.execute_input": "2021-10-06T17:02:51.353754Z",
     "iopub.status.busy": "2021-10-06T17:02:51.353529Z",
     "iopub.status.idle": "2021-10-06T17:02:51.392276Z",
     "shell.execute_reply": "2021-10-06T17:02:51.391394Z",
     "shell.execute_reply.started": "2021-10-06T17:02:51.353727Z"
    }
   },
   "outputs": [],
   "source": [
    "df.info()"
   ]
  },
  {
   "cell_type": "code",
   "execution_count": null,
   "metadata": {
    "execution": {
     "iopub.execute_input": "2021-10-06T17:02:51.393754Z",
     "iopub.status.busy": "2021-10-06T17:02:51.393509Z",
     "iopub.status.idle": "2021-10-06T17:02:51.813513Z",
     "shell.execute_reply": "2021-10-06T17:02:51.812896Z",
     "shell.execute_reply.started": "2021-10-06T17:02:51.393725Z"
    }
   },
   "outputs": [],
   "source": [
    "df.describe()"
   ]
  },
  {
   "cell_type": "code",
   "execution_count": null,
   "metadata": {
    "execution": {
     "iopub.execute_input": "2021-10-06T17:02:51.815218Z",
     "iopub.status.busy": "2021-10-06T17:02:51.814520Z",
     "iopub.status.idle": "2021-10-06T17:02:51.820780Z",
     "shell.execute_reply": "2021-10-06T17:02:51.819924Z",
     "shell.execute_reply.started": "2021-10-06T17:02:51.815181Z"
    }
   },
   "outputs": [],
   "source": [
    "df.columns"
   ]
  },
  {
   "cell_type": "code",
   "execution_count": null,
   "metadata": {
    "execution": {
     "iopub.execute_input": "2021-10-06T17:02:51.822176Z",
     "iopub.status.busy": "2021-10-06T17:02:51.821936Z",
     "iopub.status.idle": "2021-10-06T17:02:51.838712Z",
     "shell.execute_reply": "2021-10-06T17:02:51.837694Z",
     "shell.execute_reply.started": "2021-10-06T17:02:51.822139Z"
    }
   },
   "outputs": [],
   "source": [
    "df.Class.value_counts()"
   ]
  },
  {
   "cell_type": "code",
   "execution_count": null,
   "metadata": {
    "execution": {
     "iopub.execute_input": "2021-10-06T17:02:51.840424Z",
     "iopub.status.busy": "2021-10-06T17:02:51.840066Z",
     "iopub.status.idle": "2021-10-06T17:02:58.393189Z",
     "shell.execute_reply": "2021-10-06T17:02:58.392519Z",
     "shell.execute_reply.started": "2021-10-06T17:02:51.840373Z"
    }
   },
   "outputs": [],
   "source": [
    "plt.figure(figsize = (25,25))\n",
    "sns.heatmap(df.corr(), annot = True, cmap = 'Greens')"
   ]
  },
  {
   "cell_type": "markdown",
   "metadata": {},
   "source": [
    "# Handling imbalanced dataset"
   ]
  },
  {
   "cell_type": "code",
   "execution_count": null,
   "metadata": {
    "execution": {
     "iopub.execute_input": "2021-10-06T17:02:58.394865Z",
     "iopub.status.busy": "2021-10-06T17:02:58.394117Z",
     "iopub.status.idle": "2021-10-06T17:03:06.187490Z",
     "shell.execute_reply": "2021-10-06T17:03:06.186343Z",
     "shell.execute_reply.started": "2021-10-06T17:02:58.394817Z"
    }
   },
   "outputs": [],
   "source": [
    "pip install imbalanced-learn "
   ]
  },
  {
   "cell_type": "code",
   "execution_count": null,
   "metadata": {
    "execution": {
     "iopub.execute_input": "2021-10-06T17:03:06.189681Z",
     "iopub.status.busy": "2021-10-06T17:03:06.189314Z",
     "iopub.status.idle": "2021-10-06T17:03:06.230700Z",
     "shell.execute_reply": "2021-10-06T17:03:06.229663Z",
     "shell.execute_reply.started": "2021-10-06T17:03:06.189633Z"
    }
   },
   "outputs": [],
   "source": [
    "from imblearn.over_sampling import SMOTE"
   ]
  },
  {
   "cell_type": "code",
   "execution_count": null,
   "metadata": {
    "execution": {
     "iopub.execute_input": "2021-10-06T17:03:06.232545Z",
     "iopub.status.busy": "2021-10-06T17:03:06.232272Z",
     "iopub.status.idle": "2021-10-06T17:03:06.263943Z",
     "shell.execute_reply": "2021-10-06T17:03:06.262809Z",
     "shell.execute_reply.started": "2021-10-06T17:03:06.232515Z"
    }
   },
   "outputs": [],
   "source": [
    "x = df.drop('Class', axis = 'columns')\n",
    "y = df['Class']"
   ]
  },
  {
   "cell_type": "code",
   "execution_count": null,
   "metadata": {
    "execution": {
     "iopub.execute_input": "2021-10-06T17:03:06.269598Z",
     "iopub.status.busy": "2021-10-06T17:03:06.269231Z",
     "iopub.status.idle": "2021-10-06T17:03:06.818586Z",
     "shell.execute_reply": "2021-10-06T17:03:06.817776Z",
     "shell.execute_reply.started": "2021-10-06T17:03:06.269552Z"
    }
   },
   "outputs": [],
   "source": [
    "smote = SMOTE(sampling_strategy = 'minority')\n",
    "x_sm, y_sm = smote.fit_resample(x,y)\n",
    "\n",
    "y_sm.value_counts()"
   ]
  },
  {
   "cell_type": "markdown",
   "metadata": {},
   "source": [
    "# Feature Selection/Feature Importance"
   ]
  },
  {
   "cell_type": "code",
   "execution_count": null,
   "metadata": {
    "execution": {
     "iopub.execute_input": "2021-10-06T17:03:06.819977Z",
     "iopub.status.busy": "2021-10-06T17:03:06.819755Z",
     "iopub.status.idle": "2021-10-06T17:04:10.622835Z",
     "shell.execute_reply": "2021-10-06T17:04:10.619741Z",
     "shell.execute_reply.started": "2021-10-06T17:03:06.819952Z"
    }
   },
   "outputs": [],
   "source": [
    "model = ExtraTreesClassifier()\n",
    "model.fit(x_sm, y_sm)"
   ]
  },
  {
   "cell_type": "code",
   "execution_count": null,
   "metadata": {
    "execution": {
     "iopub.execute_input": "2021-10-06T17:04:10.624920Z",
     "iopub.status.busy": "2021-10-06T17:04:10.624468Z",
     "iopub.status.idle": "2021-10-06T17:04:10.658758Z",
     "shell.execute_reply": "2021-10-06T17:04:10.657771Z",
     "shell.execute_reply.started": "2021-10-06T17:04:10.624875Z"
    }
   },
   "outputs": [],
   "source": [
    "model.feature_importances_"
   ]
  },
  {
   "cell_type": "code",
   "execution_count": null,
   "metadata": {
    "execution": {
     "iopub.execute_input": "2021-10-06T17:04:10.660891Z",
     "iopub.status.busy": "2021-10-06T17:04:10.660422Z",
     "iopub.status.idle": "2021-10-06T17:04:11.072329Z",
     "shell.execute_reply": "2021-10-06T17:04:11.071300Z",
     "shell.execute_reply.started": "2021-10-06T17:04:10.660851Z"
    }
   },
   "outputs": [],
   "source": [
    "plt.figure(figsize = (10,10))\n",
    "feat = pd.Series(model.feature_importances_, index = x_sm.columns)\n",
    "feat.nlargest(18).plot(kind = 'barh')"
   ]
  },
  {
   "cell_type": "code",
   "execution_count": null,
   "metadata": {
    "execution": {
     "iopub.execute_input": "2021-10-06T17:04:11.074572Z",
     "iopub.status.busy": "2021-10-06T17:04:11.073908Z",
     "iopub.status.idle": "2021-10-06T17:04:11.081086Z",
     "shell.execute_reply": "2021-10-06T17:04:11.080020Z",
     "shell.execute_reply.started": "2021-10-06T17:04:11.074525Z"
    }
   },
   "outputs": [],
   "source": [
    "plot = feat.nlargest(18)"
   ]
  },
  {
   "cell_type": "code",
   "execution_count": null,
   "metadata": {
    "execution": {
     "iopub.execute_input": "2021-10-06T17:04:11.082951Z",
     "iopub.status.busy": "2021-10-06T17:04:11.082606Z",
     "iopub.status.idle": "2021-10-06T17:04:11.097661Z",
     "shell.execute_reply": "2021-10-06T17:04:11.096790Z",
     "shell.execute_reply.started": "2021-10-06T17:04:11.082913Z"
    }
   },
   "outputs": [],
   "source": [
    "plot.index"
   ]
  },
  {
   "cell_type": "code",
   "execution_count": null,
   "metadata": {
    "execution": {
     "iopub.execute_input": "2021-10-06T17:04:11.100788Z",
     "iopub.status.busy": "2021-10-06T17:04:11.099769Z",
     "iopub.status.idle": "2021-10-06T17:04:11.107019Z",
     "shell.execute_reply": "2021-10-06T17:04:11.106221Z",
     "shell.execute_reply.started": "2021-10-06T17:04:11.100693Z"
    }
   },
   "outputs": [],
   "source": [
    "cols = ['V14', 'V11', 'V12', 'V17', 'V4', 'V10', 'V3', 'V16', 'V18', 'V9', 'V1',\n",
    "       'V2', 'V7', 'V19', 'Time', 'V8', 'V21', 'V13']"
   ]
  },
  {
   "cell_type": "code",
   "execution_count": null,
   "metadata": {
    "execution": {
     "iopub.execute_input": "2021-10-06T17:04:11.109092Z",
     "iopub.status.busy": "2021-10-06T17:04:11.108554Z",
     "iopub.status.idle": "2021-10-06T17:04:11.151673Z",
     "shell.execute_reply": "2021-10-06T17:04:11.150896Z",
     "shell.execute_reply.started": "2021-10-06T17:04:11.109048Z"
    }
   },
   "outputs": [],
   "source": [
    "x_new = x_sm[cols]"
   ]
  },
  {
   "cell_type": "code",
   "execution_count": null,
   "metadata": {
    "execution": {
     "iopub.execute_input": "2021-10-06T17:04:11.154720Z",
     "iopub.status.busy": "2021-10-06T17:04:11.153508Z",
     "iopub.status.idle": "2021-10-06T17:04:11.166988Z",
     "shell.execute_reply": "2021-10-06T17:04:11.165737Z",
     "shell.execute_reply.started": "2021-10-06T17:04:11.154661Z"
    }
   },
   "outputs": [],
   "source": [
    "x_sm.shape"
   ]
  },
  {
   "cell_type": "code",
   "execution_count": null,
   "metadata": {
    "execution": {
     "iopub.execute_input": "2021-10-06T17:04:11.169435Z",
     "iopub.status.busy": "2021-10-06T17:04:11.168827Z",
     "iopub.status.idle": "2021-10-06T17:04:11.179236Z",
     "shell.execute_reply": "2021-10-06T17:04:11.178472Z",
     "shell.execute_reply.started": "2021-10-06T17:04:11.169390Z"
    }
   },
   "outputs": [],
   "source": [
    "x_new.shape"
   ]
  },
  {
   "cell_type": "markdown",
   "metadata": {},
   "source": [
    "# Train Test Split"
   ]
  },
  {
   "cell_type": "code",
   "execution_count": null,
   "metadata": {
    "execution": {
     "iopub.execute_input": "2021-10-06T17:04:11.180664Z",
     "iopub.status.busy": "2021-10-06T17:04:11.180336Z",
     "iopub.status.idle": "2021-10-06T17:04:11.335634Z",
     "shell.execute_reply": "2021-10-06T17:04:11.334856Z",
     "shell.execute_reply.started": "2021-10-06T17:04:11.180636Z"
    }
   },
   "outputs": [],
   "source": [
    "from sklearn.model_selection import train_test_split\n",
    "X_train, X_test, y_train, y_test = train_test_split(x_new, y_sm, test_size = 0.2, random_state = 42)"
   ]
  },
  {
   "cell_type": "code",
   "execution_count": null,
   "metadata": {
    "execution": {
     "iopub.execute_input": "2021-10-06T17:04:11.338285Z",
     "iopub.status.busy": "2021-10-06T17:04:11.337067Z",
     "iopub.status.idle": "2021-10-06T17:04:11.343458Z",
     "shell.execute_reply": "2021-10-06T17:04:11.342298Z",
     "shell.execute_reply.started": "2021-10-06T17:04:11.338234Z"
    }
   },
   "outputs": [],
   "source": [
    "randomf = RandomForestClassifier()"
   ]
  },
  {
   "cell_type": "code",
   "execution_count": null,
   "metadata": {
    "execution": {
     "iopub.execute_input": "2021-10-06T17:04:11.345760Z",
     "iopub.status.busy": "2021-10-06T17:04:11.345144Z",
     "iopub.status.idle": "2021-10-06T17:11:20.323226Z",
     "shell.execute_reply": "2021-10-06T17:11:20.322446Z",
     "shell.execute_reply.started": "2021-10-06T17:04:11.345716Z"
    }
   },
   "outputs": [],
   "source": [
    "randomf.fit(X_train, y_train)"
   ]
  },
  {
   "cell_type": "code",
   "execution_count": null,
   "metadata": {
    "execution": {
     "iopub.execute_input": "2021-10-06T17:11:20.324785Z",
     "iopub.status.busy": "2021-10-06T17:11:20.324530Z",
     "iopub.status.idle": "2021-10-06T17:11:21.741549Z",
     "shell.execute_reply": "2021-10-06T17:11:21.740574Z",
     "shell.execute_reply.started": "2021-10-06T17:11:20.324756Z"
    }
   },
   "outputs": [],
   "source": [
    "y_pred = randomf.predict(X_test)"
   ]
  },
  {
   "cell_type": "code",
   "execution_count": null,
   "metadata": {
    "execution": {
     "iopub.execute_input": "2021-10-06T17:11:21.743023Z",
     "iopub.status.busy": "2021-10-06T17:11:21.742780Z",
     "iopub.status.idle": "2021-10-06T17:11:21.760332Z",
     "shell.execute_reply": "2021-10-06T17:11:21.759530Z",
     "shell.execute_reply.started": "2021-10-06T17:11:21.742995Z"
    }
   },
   "outputs": [],
   "source": [
    "accuracy_score(y_test, y_pred)"
   ]
  }
 ],
 "metadata": {
  "kernelspec": {
   "display_name": "Python 3",
   "language": "python",
   "name": "python3"
  },
  "language_info": {
   "codemirror_mode": {
    "name": "ipython",
    "version": 3
   },
   "file_extension": ".py",
   "mimetype": "text/x-python",
   "name": "python",
   "nbconvert_exporter": "python",
   "pygments_lexer": "ipython3",
   "version": "3.8.7"
  }
 },
 "nbformat": 4,
 "nbformat_minor": 4
}
