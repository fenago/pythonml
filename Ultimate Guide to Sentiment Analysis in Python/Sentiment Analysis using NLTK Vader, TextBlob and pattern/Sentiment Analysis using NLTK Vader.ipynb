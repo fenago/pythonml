{
 "cells": [
  {
   "cell_type": "markdown",
   "metadata": {},
   "source": [
    "# Sentiment Analysis using NLTK Vader , TextBlob and Pattern"
   ]
  },
  {
   "cell_type": "markdown",
   "metadata": {},
   "source": [
    "***Let's Import the libraries and the data set***"
   ]
  },
  {
   "cell_type": "code",
   "execution_count": 2,
   "metadata": {},
   "outputs": [
    {
     "name": "stdout",
     "output_type": "stream",
     "text": [
      "Requirement already satisfied: regex in c:\\python38\\lib\\site-packages (2021.11.10)\n"
     ]
    }
   ],
   "source": [
    "#downloading the regular expression library\n",
    "!pip install regex\n",
    "\n",
    "import warnings\n",
    "warnings.filterwarnings('ignore')\n"
   ]
  },
  {
   "cell_type": "code",
   "execution_count": 3,
   "metadata": {},
   "outputs": [],
   "source": [
    "# importing the libraries\n",
    "import re           #importing the regu+lar expression library\n",
    "import pandas as pd\n",
    "import numpy as np"
   ]
  },
  {
   "cell_type": "markdown",
   "metadata": {},
   "source": [
    "***Reading the data***"
   ]
  },
  {
   "cell_type": "code",
   "execution_count": 4,
   "metadata": {},
   "outputs": [],
   "source": [
    "text = open(\"hotel_reviews.txt\", \"r\")"
   ]
  },
  {
   "cell_type": "markdown",
   "metadata": {},
   "source": [
    "***Cleaning the Data***"
   ]
  },
  {
   "cell_type": "code",
   "execution_count": 5,
   "metadata": {},
   "outputs": [],
   "source": [
    "#Function to remove special characters and numbers from the text\n",
    "\n",
    "def remove(x):\n",
    "    pattern = \"['\\n',@\\'?\\.$%_0-9]\"\n",
    "    x = [re.sub(pattern, '', i) for i in x]\n",
    "    return x"
   ]
  },
  {
   "cell_type": "code",
   "execution_count": 6,
   "metadata": {},
   "outputs": [],
   "source": [
    "clean = remove(text)"
   ]
  },
  {
   "cell_type": "code",
   "execution_count": 7,
   "metadata": {},
   "outputs": [],
   "source": [
    "#Converting the list type data to string type\n",
    "def listToString(s):  \n",
    "    \n",
    "    # initialize an empty string\n",
    "    str1 = \"\"  \n",
    "    \n",
    "    # traverse in the string \n",
    "    for ele in s:  \n",
    "        str1 += ele   \n",
    "    \n",
    "    # return string   \n",
    "    return str1  "
   ]
  },
  {
   "cell_type": "code",
   "execution_count": 8,
   "metadata": {},
   "outputs": [],
   "source": [
    "clean_text = listToString(clean)\n"
   ]
  },
  {
   "cell_type": "code",
   "execution_count": 9,
   "metadata": {},
   "outputs": [],
   "source": [
    "#Splitting the text\n",
    "splitted_text = clean_text.split('\\t')\n"
   ]
  },
  {
   "cell_type": "code",
   "execution_count": 10,
   "metadata": {},
   "outputs": [
    {
     "data": {
      "text/html": [
       "<div>\n",
       "<style scoped>\n",
       "    .dataframe tbody tr th:only-of-type {\n",
       "        vertical-align: middle;\n",
       "    }\n",
       "\n",
       "    .dataframe tbody tr th {\n",
       "        vertical-align: top;\n",
       "    }\n",
       "\n",
       "    .dataframe thead th {\n",
       "        text-align: right;\n",
       "    }\n",
       "</style>\n",
       "<table border=\"1\" class=\"dataframe\">\n",
       "  <thead>\n",
       "    <tr style=\"text-align: right;\">\n",
       "      <th></th>\n",
       "      <th>Reviews</th>\n",
       "    </tr>\n",
       "  </thead>\n",
       "  <tbody>\n",
       "    <tr>\n",
       "      <th>0</th>\n",
       "      <td></td>\n",
       "    </tr>\n",
       "    <tr>\n",
       "      <th>1</th>\n",
       "      <td>Nice HotelGreat Location</td>\n",
       "    </tr>\n",
       "    <tr>\n",
       "      <th>2</th>\n",
       "      <td>Stayed here for my th B-Day Got Studio King Su...</td>\n",
       "    </tr>\n",
       "    <tr>\n",
       "      <th>3</th>\n",
       "      <td>great hotel great service!</td>\n",
       "    </tr>\n",
       "    <tr>\n",
       "      <th>4</th>\n",
       "      <td>We stayed one night to celebrate a special bir...</td>\n",
       "    </tr>\n",
       "  </tbody>\n",
       "</table>\n",
       "</div>"
      ],
      "text/plain": [
       "                                             Reviews\n",
       "0                                                   \n",
       "1                           Nice HotelGreat Location\n",
       "2  Stayed here for my th B-Day Got Studio King Su...\n",
       "3                         great hotel great service!\n",
       "4  We stayed one night to celebrate a special bir..."
      ]
     },
     "execution_count": 10,
     "metadata": {},
     "output_type": "execute_result"
    }
   ],
   "source": [
    "#loading the clean data in pandas dataframe\n",
    "\n",
    "data = clean_text\n",
    "df = pd.DataFrame([x.split(',') for x in data.split('\\t')])\n",
    "\n",
    "#Naming the column of the dataframe \n",
    "df.columns = [\"Reviews\"]\n",
    "df.head()"
   ]
  },
  {
   "cell_type": "code",
   "execution_count": 11,
   "metadata": {},
   "outputs": [],
   "source": [
    "#Removing the '\\n' identifier from sentences\n",
    "df_clean = df[~df['Reviews'].astype(str).str.endswith('\\n')]"
   ]
  },
  {
   "cell_type": "code",
   "execution_count": 12,
   "metadata": {},
   "outputs": [
    {
     "data": {
      "text/html": [
       "<div>\n",
       "<style scoped>\n",
       "    .dataframe tbody tr th:only-of-type {\n",
       "        vertical-align: middle;\n",
       "    }\n",
       "\n",
       "    .dataframe tbody tr th {\n",
       "        vertical-align: top;\n",
       "    }\n",
       "\n",
       "    .dataframe thead th {\n",
       "        text-align: right;\n",
       "    }\n",
       "</style>\n",
       "<table border=\"1\" class=\"dataframe\">\n",
       "  <thead>\n",
       "    <tr style=\"text-align: right;\">\n",
       "      <th></th>\n",
       "      <th>Reviews</th>\n",
       "    </tr>\n",
       "  </thead>\n",
       "  <tbody>\n",
       "    <tr>\n",
       "      <th>0</th>\n",
       "      <td></td>\n",
       "    </tr>\n",
       "    <tr>\n",
       "      <th>1</th>\n",
       "      <td>Nice HotelGreat Location</td>\n",
       "    </tr>\n",
       "    <tr>\n",
       "      <th>2</th>\n",
       "      <td>Stayed here for my th B-Day Got Studio King Su...</td>\n",
       "    </tr>\n",
       "    <tr>\n",
       "      <th>3</th>\n",
       "      <td>great hotel great service!</td>\n",
       "    </tr>\n",
       "    <tr>\n",
       "      <th>4</th>\n",
       "      <td>We stayed one night to celebrate a special bir...</td>\n",
       "    </tr>\n",
       "    <tr>\n",
       "      <th>5</th>\n",
       "      <td>really nice hotel</td>\n",
       "    </tr>\n",
       "    <tr>\n",
       "      <th>6</th>\n",
       "      <td>i stayed here for one night we haggled the pri...</td>\n",
       "    </tr>\n",
       "    <tr>\n",
       "      <th>7</th>\n",
       "      <td>Friendly staff and great location</td>\n",
       "    </tr>\n",
       "    <tr>\n",
       "      <th>8</th>\n",
       "      <td>While the contemporary-styled standard rooms h...</td>\n",
       "    </tr>\n",
       "    <tr>\n",
       "      <th>9</th>\n",
       "      <td>Awesome!</td>\n",
       "    </tr>\n",
       "  </tbody>\n",
       "</table>\n",
       "</div>"
      ],
      "text/plain": [
       "                                             Reviews\n",
       "0                                                   \n",
       "1                           Nice HotelGreat Location\n",
       "2  Stayed here for my th B-Day Got Studio King Su...\n",
       "3                         great hotel great service!\n",
       "4  We stayed one night to celebrate a special bir...\n",
       "5                                  really nice hotel\n",
       "6  i stayed here for one night we haggled the pri...\n",
       "7                  Friendly staff and great location\n",
       "8  While the contemporary-styled standard rooms h...\n",
       "9                                           Awesome!"
      ]
     },
     "execution_count": 12,
     "metadata": {},
     "output_type": "execute_result"
    }
   ],
   "source": [
    "df_clean.head(10)"
   ]
  },
  {
   "cell_type": "code",
   "execution_count": 13,
   "metadata": {},
   "outputs": [],
   "source": [
    "#Removing the empty row from the top\n",
    "df_final= df_clean.drop([0])"
   ]
  },
  {
   "cell_type": "markdown",
   "metadata": {},
   "source": [
    "### Sentiment Analysis Using NLTK Vader"
   ]
  },
  {
   "cell_type": "markdown",
   "metadata": {},
   "source": [
    "**Downloading the NLTK library**"
   ]
  },
  {
   "cell_type": "code",
   "execution_count": 14,
   "metadata": {},
   "outputs": [
    {
     "name": "stdout",
     "output_type": "stream",
     "text": [
      "Requirement already satisfied: nltk in c:\\python38\\lib\\site-packages (3.6.7)\n",
      "Requirement already satisfied: regex>=2021.8.3 in c:\\python38\\lib\\site-packages (from nltk) (2021.11.10)\n",
      "Requirement already satisfied: tqdm in c:\\python38\\lib\\site-packages (from nltk) (4.59.0)\n",
      "Requirement already satisfied: joblib in c:\\python38\\lib\\site-packages (from nltk) (1.0.1)\n",
      "Requirement already satisfied: click in c:\\python38\\lib\\site-packages (from nltk) (7.1.2)\n"
     ]
    },
    {
     "name": "stderr",
     "output_type": "stream",
     "text": [
      "[nltk_data] Downloading package vader_lexicon to C:\\Users\\TURABI\n",
      "[nltk_data]     TRADERS\\AppData\\Roaming\\nltk_data...\n",
      "[nltk_data]   Package vader_lexicon is already up-to-date!\n"
     ]
    }
   ],
   "source": [
    "!pip install nltk\n",
    "import nltk\n",
    "nltk.download('vader_lexicon')\n",
    "from nltk.sentiment.vader import SentimentIntensityAnalyzer"
   ]
  },
  {
   "cell_type": "code",
   "execution_count": 15,
   "metadata": {},
   "outputs": [],
   "source": [
    "sia = SentimentIntensityAnalyzer()"
   ]
  },
  {
   "cell_type": "markdown",
   "metadata": {},
   "source": [
    "The NLTK Vader provides the sentiment of the text by providing scores in three different categories i.e. negative, neutral, and positive.\n",
    "\n",
    "Along with this, the compound is also calculated for each text passed to the NLTK Vader function. The compound attribute is basically a summarized result of all the three categories score.\n",
    "\n",
    "The value of compound ranges from -1(most extreme negative) and +1 (most extreme positive). This is normalized value as it helps in better analysis and further usage."
   ]
  },
  {
   "cell_type": "code",
   "execution_count": 16,
   "metadata": {},
   "outputs": [],
   "source": [
    "df_final['neg'] = df_final['Reviews'].apply(lambda x:sia.polarity_scores(x)['neg'])\n",
    "df_final['neu'] = df_final['Reviews'].apply(lambda x:sia.polarity_scores(x)['neu'])\n",
    "df_final['pos'] = df_final['Reviews'].apply(lambda x:sia.polarity_scores(x)['pos'])\n",
    "df_final['compound'] = df_final['Reviews'].apply(lambda x:sia.polarity_scores(x)['compound'])"
   ]
  },
  {
   "cell_type": "code",
   "execution_count": 17,
   "metadata": {},
   "outputs": [
    {
     "data": {
      "text/html": [
       "<div>\n",
       "<style scoped>\n",
       "    .dataframe tbody tr th:only-of-type {\n",
       "        vertical-align: middle;\n",
       "    }\n",
       "\n",
       "    .dataframe tbody tr th {\n",
       "        vertical-align: top;\n",
       "    }\n",
       "\n",
       "    .dataframe thead th {\n",
       "        text-align: right;\n",
       "    }\n",
       "</style>\n",
       "<table border=\"1\" class=\"dataframe\">\n",
       "  <thead>\n",
       "    <tr style=\"text-align: right;\">\n",
       "      <th></th>\n",
       "      <th>Reviews</th>\n",
       "      <th>neg</th>\n",
       "      <th>neu</th>\n",
       "      <th>pos</th>\n",
       "      <th>compound</th>\n",
       "    </tr>\n",
       "  </thead>\n",
       "  <tbody>\n",
       "    <tr>\n",
       "      <th>1</th>\n",
       "      <td>Nice HotelGreat Location</td>\n",
       "      <td>0.000</td>\n",
       "      <td>0.417</td>\n",
       "      <td>0.583</td>\n",
       "      <td>0.4215</td>\n",
       "    </tr>\n",
       "    <tr>\n",
       "      <th>2</th>\n",
       "      <td>Stayed here for my th B-Day Got Studio King Su...</td>\n",
       "      <td>0.023</td>\n",
       "      <td>0.742</td>\n",
       "      <td>0.235</td>\n",
       "      <td>0.9705</td>\n",
       "    </tr>\n",
       "    <tr>\n",
       "      <th>3</th>\n",
       "      <td>great hotel great service!</td>\n",
       "      <td>0.000</td>\n",
       "      <td>0.191</td>\n",
       "      <td>0.809</td>\n",
       "      <td>0.8588</td>\n",
       "    </tr>\n",
       "    <tr>\n",
       "      <th>4</th>\n",
       "      <td>We stayed one night to celebrate a special bir...</td>\n",
       "      <td>0.000</td>\n",
       "      <td>0.771</td>\n",
       "      <td>0.229</td>\n",
       "      <td>0.9835</td>\n",
       "    </tr>\n",
       "    <tr>\n",
       "      <th>5</th>\n",
       "      <td>really nice hotel</td>\n",
       "      <td>0.000</td>\n",
       "      <td>0.393</td>\n",
       "      <td>0.607</td>\n",
       "      <td>0.4754</td>\n",
       "    </tr>\n",
       "  </tbody>\n",
       "</table>\n",
       "</div>"
      ],
      "text/plain": [
       "                                             Reviews    neg    neu    pos  \\\n",
       "1                           Nice HotelGreat Location  0.000  0.417  0.583   \n",
       "2  Stayed here for my th B-Day Got Studio King Su...  0.023  0.742  0.235   \n",
       "3                         great hotel great service!  0.000  0.191  0.809   \n",
       "4  We stayed one night to celebrate a special bir...  0.000  0.771  0.229   \n",
       "5                                  really nice hotel  0.000  0.393  0.607   \n",
       "\n",
       "   compound  \n",
       "1    0.4215  \n",
       "2    0.9705  \n",
       "3    0.8588  \n",
       "4    0.9835  \n",
       "5    0.4754  "
      ]
     },
     "execution_count": 17,
     "metadata": {},
     "output_type": "execute_result"
    }
   ],
   "source": [
    "df_final.head()"
   ]
  },
  {
   "cell_type": "code",
   "execution_count": 18,
   "metadata": {},
   "outputs": [],
   "source": [
    "vader_comp = df_final[\"compound\"].mean()"
   ]
  },
  {
   "cell_type": "markdown",
   "metadata": {},
   "source": [
    "#### NLTK Vader"
   ]
  },
  {
   "cell_type": "code",
   "execution_count": 19,
   "metadata": {},
   "outputs": [
    {
     "name": "stdout",
     "output_type": "stream",
     "text": [
      "The average polarity of hotel review is: 0.5901388170055453\n"
     ]
    }
   ],
   "source": [
    "print(\"The average polarity of hotel review is:\",vader_comp)"
   ]
  },
  {
   "cell_type": "markdown",
   "metadata": {},
   "source": [
    "### Sentiment Analysis Using TextBlob"
   ]
  },
  {
   "cell_type": "markdown",
   "metadata": {},
   "source": [
    "**Let's download the Textblob library**"
   ]
  },
  {
   "cell_type": "code",
   "execution_count": 20,
   "metadata": {},
   "outputs": [
    {
     "name": "stdout",
     "output_type": "stream",
     "text": [
      "Requirement already satisfied: textblob in c:\\python38\\lib\\site-packages (0.17.1)\n",
      "Requirement already satisfied: nltk>=3.1 in c:\\python38\\lib\\site-packages (from textblob) (3.6.7)\n",
      "Requirement already satisfied: tqdm in c:\\python38\\lib\\site-packages (from nltk>=3.1->textblob) (4.59.0)\n",
      "Requirement already satisfied: joblib in c:\\python38\\lib\\site-packages (from nltk>=3.1->textblob) (1.0.1)\n",
      "Requirement already satisfied: regex>=2021.8.3 in c:\\python38\\lib\\site-packages (from nltk>=3.1->textblob) (2021.11.10)\n",
      "Requirement already satisfied: click in c:\\python38\\lib\\site-packages (from nltk>=3.1->textblob) (7.1.2)\n"
     ]
    }
   ],
   "source": [
    "!pip install textblob"
   ]
  },
  {
   "cell_type": "code",
   "execution_count": 21,
   "metadata": {},
   "outputs": [],
   "source": [
    "#importing the textblob library \n",
    "from textblob import TextBlob"
   ]
  },
  {
   "cell_type": "markdown",
   "metadata": {},
   "source": [
    "Let's create a function to calculate the sentiment attributes of our dataset easily. \n",
    "\n",
    "We will create a new dataframe df_textblob to store the results of sentiment score for each sentence in our dataset."
   ]
  },
  {
   "cell_type": "code",
   "execution_count": 22,
   "metadata": {},
   "outputs": [],
   "source": [
    "def detect_polarity(text):\n",
    "    return TextBlob(text).sentiment.polarity"
   ]
  },
  {
   "cell_type": "code",
   "execution_count": 23,
   "metadata": {},
   "outputs": [],
   "source": [
    "df_textblob = df_final.Reviews.apply(detect_polarity)"
   ]
  },
  {
   "cell_type": "markdown",
   "metadata": {},
   "source": [
    "Unlike the NLTK Vader library, Textblob returns us a single score/polarity for each sentence."
   ]
  },
  {
   "cell_type": "code",
   "execution_count": 24,
   "metadata": {},
   "outputs": [
    {
     "data": {
      "text/plain": [
       "1    0.600000\n",
       "2    0.342692\n",
       "3    0.900000\n",
       "4    0.311664\n",
       "5    0.600000\n",
       "Name: Reviews, dtype: float64"
      ]
     },
     "execution_count": 24,
     "metadata": {},
     "output_type": "execute_result"
    }
   ],
   "source": [
    "df_textblob.head()"
   ]
  },
  {
   "cell_type": "markdown",
   "metadata": {},
   "source": [
    "Let's calculate the mean of all of these scores to get a summarized view of all the polarity scores.\n"
   ]
  },
  {
   "cell_type": "code",
   "execution_count": 25,
   "metadata": {},
   "outputs": [],
   "source": [
    "tb_polarity = df_textblob.mean()"
   ]
  },
  {
   "cell_type": "markdown",
   "metadata": {},
   "source": [
    "#### Text Blob Results"
   ]
  },
  {
   "cell_type": "code",
   "execution_count": 26,
   "metadata": {},
   "outputs": [
    {
     "name": "stdout",
     "output_type": "stream",
     "text": [
      "The average polarity of hotel review is: 0.31679424056015665\n"
     ]
    }
   ],
   "source": [
    "print(\"The average polarity of hotel review is:\",tb_polarity)"
   ]
  },
  {
   "cell_type": "markdown",
   "metadata": {},
   "source": [
    "### Sentiment Analysis Using Pattern"
   ]
  },
  {
   "cell_type": "markdown",
   "metadata": {},
   "source": [
    "**Let's download the Pattern library**"
   ]
  },
  {
   "cell_type": "code",
   "execution_count": 27,
   "metadata": {},
   "outputs": [
    {
     "name": "stdout",
     "output_type": "stream",
     "text": [
      "Requirement already satisfied: pattern in c:\\python38\\lib\\site-packages (3.6)\n",
      "Requirement already satisfied: numpy in c:\\python38\\lib\\site-packages (from pattern) (1.19.5)\n",
      "Requirement already satisfied: future in c:\\python38\\lib\\site-packages (from pattern) (0.18.2)\n",
      "Requirement already satisfied: cherrypy in c:\\python38\\lib\\site-packages (from pattern) (18.6.1)\n",
      "Requirement already satisfied: python-docx in c:\\python38\\lib\\site-packages (from pattern) (0.8.11)\n",
      "Requirement already satisfied: feedparser in c:\\python38\\lib\\site-packages (from pattern) (6.0.8)\n",
      "Requirement already satisfied: pdfminer.six in c:\\python38\\lib\\site-packages (from pattern) (20211012)\n",
      "Requirement already satisfied: scipy in c:\\python38\\lib\\site-packages (from pattern) (1.6.1)\n",
      "Requirement already satisfied: nltk in c:\\python38\\lib\\site-packages (from pattern) (3.6.7)\n",
      "Requirement already satisfied: lxml in c:\\python38\\lib\\site-packages (from pattern) (4.7.1)\n",
      "Requirement already satisfied: mysqlclient in c:\\python38\\lib\\site-packages (from pattern) (2.1.0)\n",
      "Requirement already satisfied: requests in c:\\python38\\lib\\site-packages (from pattern) (2.25.1)\n",
      "Requirement already satisfied: beautifulsoup4 in c:\\python38\\lib\\site-packages (from pattern) (4.10.0)\n",
      "Requirement already satisfied: backports.csv in c:\\python38\\lib\\site-packages (from pattern) (1.0.7)\n",
      "Requirement already satisfied: soupsieve>1.2 in c:\\python38\\lib\\site-packages (from beautifulsoup4->pattern) (2.2)\n",
      "Requirement already satisfied: more-itertools in c:\\python38\\lib\\site-packages (from cherrypy->pattern) (8.12.0)\n",
      "Requirement already satisfied: cheroot>=8.2.1 in c:\\python38\\lib\\site-packages (from cherrypy->pattern) (8.6.0)\n",
      "Requirement already satisfied: jaraco.collections in c:\\python38\\lib\\site-packages (from cherrypy->pattern) (3.5.1)\n",
      "Requirement already satisfied: pywin32>=227 in c:\\python38\\lib\\site-packages (from cherrypy->pattern) (300)\n",
      "Requirement already satisfied: portend>=2.1.1 in c:\\python38\\lib\\site-packages (from cherrypy->pattern) (3.1.0)\n",
      "Requirement already satisfied: zc.lockfile in c:\\python38\\lib\\site-packages (from cherrypy->pattern) (2.0)\n",
      "Requirement already satisfied: sgmllib3k in c:\\python38\\lib\\site-packages (from feedparser->pattern) (1.0.0)\n",
      "Requirement already satisfied: click in c:\\python38\\lib\\site-packages (from nltk->pattern) (7.1.2)\n",
      "Requirement already satisfied: regex>=2021.8.3 in c:\\python38\\lib\\site-packages (from nltk->pattern) (2021.11.10)\n",
      "Requirement already satisfied: tqdm in c:\\python38\\lib\\site-packages (from nltk->pattern) (4.59.0)\n",
      "Requirement already satisfied: joblib in c:\\python38\\lib\\site-packages (from nltk->pattern) (1.0.1)\n",
      "Requirement already satisfied: chardet in c:\\python38\\lib\\site-packages (from pdfminer.six->pattern) (3.0.4)\n",
      "Requirement already satisfied: cryptography in c:\\python38\\lib\\site-packages (from pdfminer.six->pattern) (36.0.1)\n",
      "Requirement already satisfied: certifi>=2017.4.17 in c:\\python38\\lib\\site-packages (from requests->pattern) (2020.12.5)\n",
      "Requirement already satisfied: idna<3,>=2.5 in c:\\python38\\lib\\site-packages (from requests->pattern) (2.10)\n",
      "Requirement already satisfied: urllib3<1.27,>=1.21.1 in c:\\python38\\lib\\site-packages (from requests->pattern) (1.26.2)\n",
      "Requirement already satisfied: six>=1.11.0 in c:\\python38\\lib\\site-packages (from cheroot>=8.2.1->cherrypy->pattern) (1.15.0)\n",
      "Requirement already satisfied: jaraco.functools in c:\\python38\\lib\\site-packages (from cheroot>=8.2.1->cherrypy->pattern) (3.5.0)\n",
      "Requirement already satisfied: tempora>=1.8 in c:\\python38\\lib\\site-packages (from portend>=2.1.1->cherrypy->pattern) (5.0.0)\n",
      "Requirement already satisfied: cffi>=1.12 in c:\\python38\\lib\\site-packages (from cryptography->pdfminer.six->pattern) (1.14.4)\n",
      "Requirement already satisfied: jaraco.text in c:\\python38\\lib\\site-packages (from jaraco.collections->cherrypy->pattern) (3.6.0)\n",
      "Requirement already satisfied: jaraco.classes in c:\\python38\\lib\\site-packages (from jaraco.collections->cherrypy->pattern) (3.2.1)\n",
      "Requirement already satisfied: setuptools in c:\\python38\\lib\\site-packages (from zc.lockfile->cherrypy->pattern) (49.2.1)\n",
      "Requirement already satisfied: pycparser in c:\\python38\\lib\\site-packages (from cffi>=1.12->cryptography->pdfminer.six->pattern) (2.20)\n",
      "Requirement already satisfied: pytz in c:\\python38\\lib\\site-packages (from tempora>=1.8->portend>=2.1.1->cherrypy->pattern) (2020.5)\n",
      "Requirement already satisfied: importlib-resources in c:\\python38\\lib\\site-packages (from jaraco.text->jaraco.collections->cherrypy->pattern) (5.2.2)\n",
      "Requirement already satisfied: zipp>=3.1.0 in c:\\python38\\lib\\site-packages (from importlib-resources->jaraco.text->jaraco.collections->cherrypy->pattern) (3.5.0)\n"
     ]
    }
   ],
   "source": [
    "!pip install pattern"
   ]
  },
  {
   "cell_type": "code",
   "execution_count": 28,
   "metadata": {},
   "outputs": [
    {
     "name": "stderr",
     "output_type": "stream",
     "text": [
      "[nltk_data] Downloading package omw-1.4 to C:\\Users\\TURABI\n",
      "[nltk_data]     TRADERS\\AppData\\Roaming\\nltk_data...\n",
      "[nltk_data]   Package omw-1.4 is already up-to-date!\n"
     ]
    }
   ],
   "source": [
    "#importing the sentiment function from the pattern library\n",
    "nltk.download('omw-1.4')\n",
    "from pattern.en import sentiment"
   ]
  },
  {
   "cell_type": "markdown",
   "metadata": {},
   "source": [
    "Let's create our own custom function senti_pattern, to find the sentiment scores for each of the sentences in our hotel review data set."
   ]
  },
  {
   "cell_type": "code",
   "execution_count": 29,
   "metadata": {},
   "outputs": [],
   "source": [
    "def senti_pattern(text):\n",
    "    return sentiment(text)"
   ]
  },
  {
   "cell_type": "code",
   "execution_count": 30,
   "metadata": {},
   "outputs": [],
   "source": [
    "df_pattern = df_final.Reviews.apply(senti_pattern)"
   ]
  },
  {
   "cell_type": "markdown",
   "metadata": {},
   "source": [
    "Here we are able to see in the results that both sentiment score also known as polarity is obtained as the first value in the output and the second value is the subjectivity score."
   ]
  },
  {
   "cell_type": "code",
   "execution_count": 31,
   "metadata": {},
   "outputs": [
    {
     "data": {
      "text/plain": [
       "1                                  (0.6, 1.0)\n",
       "2    (0.3426923076923077, 0.5019230769230769)\n",
       "3                                 (0.9, 0.75)\n",
       "4     (0.3116636904761905, 0.668107142857143)\n",
       "5                                  (0.6, 1.0)\n",
       "Name: Reviews, dtype: object"
      ]
     },
     "execution_count": 31,
     "metadata": {},
     "output_type": "execute_result"
    }
   ],
   "source": [
    "df_pattern.head()"
   ]
  },
  {
   "cell_type": "markdown",
   "metadata": {},
   "source": [
    "The output is a list of tuples, so let's convert it to two different tuples.\n",
    "\n",
    "The output obtained is present in tuple, thus to perform further operations we need to convert this list of tuples into two different tuples. For this conversion, we will use zip function of python. This will help us in getting two individual tuples which can then be used for our operations."
   ]
  },
  {
   "cell_type": "code",
   "execution_count": 32,
   "metadata": {},
   "outputs": [],
   "source": [
    "sentiment,subjectivity = zip(*df_pattern)"
   ]
  },
  {
   "cell_type": "code",
   "execution_count": 33,
   "metadata": {},
   "outputs": [
    {
     "data": {
      "text/plain": [
       "(0.6,\n",
       " 0.3426923076923077,\n",
       " 0.9,\n",
       " 0.3116636904761905,\n",
       " 0.6,\n",
       " 0.3084722222222223,\n",
       " 0.5875,\n",
       " 0.15312499999999998,\n",
       " 1.0,\n",
       " 0.4328571428571429,\n",
       " 0.5681818181818181,\n",
       " 0.3571578884078884,\n",
       " 0.8,\n",
       " 0.4125,\n",
       " 0.0,\n",
       " 0.12911725955204217,\n",
       " 0.48333333333333334,\n",
       " 0.22242063492063494,\n",
       " 0.5375,\n",
       " 0.43499999999999994,\n",
       " 0.7,\n",
       " 0.21607331821617534,\n",
       " 0.6,\n",
       " 0.22142857142857145,\n",
       " 0.0,\n",
       " 0.14255070546737214,\n",
       " 0.0,\n",
       " -0.004807972997628167,\n",
       " 0.6333333333333334,\n",
       " 0.4620878787878787,\n",
       " 0.0,\n",
       " 0.24758731617647065,\n",
       " 0.8,\n",
       " 0.464534632034632,\n",
       " 0.0,\n",
       " 0.11050827423167847,\n",
       " 0.8,\n",
       " 0.389386936592819,\n",
       " 0.9,\n",
       " 0.28097643097643094,\n",
       " 0.8,\n",
       " 0.19769976551226554,\n",
       " 0.6833333333333332,\n",
       " 0.2230357142857143,\n",
       " 0.5166666666666667,\n",
       " 0.21551587301587302,\n",
       " -0.75,\n",
       " 0.13246527777777778,\n",
       " 0.3181818181818182,\n",
       " 0.19999999999999998,\n",
       " 0.6,\n",
       " 0.20242997198879553,\n",
       " 0.12916666666666665,\n",
       " 0.23307453416149065,\n",
       " 0.65,\n",
       " 0.3059803921568628,\n",
       " 0.0,\n",
       " 0.12607641326391325,\n",
       " -0.4,\n",
       " 0.11363636363636363,\n",
       " -0.25,\n",
       " 0.12900883838383836,\n",
       " 0.6666666666666666,\n",
       " 0.22491168058132346,\n",
       " 0.4,\n",
       " 0.5253409090909091,\n",
       " 0.4,\n",
       " 0.2599371693121693,\n",
       " 0.8,\n",
       " 0.27687755102040823,\n",
       " 0.0,\n",
       " 0.13364197530864197,\n",
       " 0.0,\n",
       " -0.03193576388888889,\n",
       " 0.0,\n",
       " 0.11285558667911612,\n",
       " 0.45625000000000004,\n",
       " 0.1839903032790964,\n",
       " 0.0,\n",
       " 0.3221825396825398,\n",
       " 0.8333333333333333,\n",
       " 0.10714285714285712,\n",
       " 0.6625,\n",
       " 0.1479100529100529,\n",
       " 0.8,\n",
       " 0.17044231131187654,\n",
       " 1.0,\n",
       " 0.17500000000000002,\n",
       " 0.48522727272727273,\n",
       " 0.2425347222222222,\n",
       " 0.8,\n",
       " 0.3023148393556557,\n",
       " 0.375,\n",
       " 0.30342261904761897,\n",
       " 0.0,\n",
       " 0.30477124183006543,\n",
       " 0.125,\n",
       " 0.2826666666666667,\n",
       " 0.10000000000000003,\n",
       " -0.0375,\n",
       " 0.11666666666666665,\n",
       " 0.31505952380952384,\n",
       " -0.15,\n",
       " -0.04722222222222223,\n",
       " 0.6,\n",
       " 0.15863095238095237,\n",
       " 0.0,\n",
       " 0.21117815055315053,\n",
       " 0.4,\n",
       " 0.2061688311688311,\n",
       " 0.30625,\n",
       " 0.32061403508771924,\n",
       " -0.15,\n",
       " 0.25885416666666666,\n",
       " 0.8,\n",
       " 0.049126984126984116,\n",
       " 0.0,\n",
       " 0.10848255280073461,\n",
       " 0.8,\n",
       " 0.19307692307692306,\n",
       " 0.9375,\n",
       " 0.37415674603174603,\n",
       " 0.6,\n",
       " 0.3333333333333333,\n",
       " 0.45833333333333337,\n",
       " 0.1981746031746032,\n",
       " 0.125,\n",
       " 0.12745098039215685,\n",
       " 0.0,\n",
       " 0.15133786848072556,\n",
       " -0.6999999999999998,\n",
       " -0.022222222222222227,\n",
       " 0.5666666666666667,\n",
       " 0.2268952380952381,\n",
       " 0.6,\n",
       " 0.25741436100131754,\n",
       " 0.6,\n",
       " 0.1550021958717611,\n",
       " 0.475,\n",
       " 0.2054751259669292,\n",
       " 0.4681818181818182,\n",
       " 0.34412011269154125,\n",
       " 1.0,\n",
       " 0.164375,\n",
       " 0.0,\n",
       " 0.33654761904761915,\n",
       " 0.0,\n",
       " 0.17159430438842205,\n",
       " 0.35,\n",
       " 0.12734487734487732,\n",
       " 0.625,\n",
       " 0.20802693602693603,\n",
       " 0.9750000000000001,\n",
       " 0.18502284752284748,\n",
       " 0.0,\n",
       " 0.25735294117647056,\n",
       " -0.15,\n",
       " 0.2669871794871795,\n",
       " 1.0,\n",
       " 0.5125000000000001,\n",
       " 0.0,\n",
       " 0.1928125,\n",
       " 1.0,\n",
       " 0.24697232744107744,\n",
       " 1.0,\n",
       " 0.2556353003721425,\n",
       " 0.5,\n",
       " 0.2559089848060437,\n",
       " 0.0,\n",
       " 0.596875,\n",
       " -0.25,\n",
       " 0.025000000000000005,\n",
       " 1.0,\n",
       " 0.2329845154845155,\n",
       " 1.0,\n",
       " 0.35021440823327615,\n",
       " 0.0,\n",
       " 0.23593005952380952,\n",
       " 0.7,\n",
       " 0.23463068181818178,\n",
       " 0.8,\n",
       " 0.13036796536796535,\n",
       " -0.3125,\n",
       " -0.06363381410256409,\n",
       " 0.2857142857142857,\n",
       " 0.16549342632675967,\n",
       " 1.0,\n",
       " 0.24813612313612313,\n",
       " 0.7,\n",
       " 0.2432403870639164,\n",
       " 0.10249999999999998,\n",
       " 0.18343537414965988,\n",
       " 0.1828125,\n",
       " 0.2152083333333333,\n",
       " 0.8,\n",
       " 0.309520202020202,\n",
       " 0.9583333333333334,\n",
       " 0.4895833333333333,\n",
       " 0.2,\n",
       " 0.134491341991342,\n",
       " -0.244140625,\n",
       " 0.1876316391941391,\n",
       " -0.25,\n",
       " 0.04089105339105341,\n",
       " 1.0,\n",
       " 0.23323451910408435,\n",
       " 0.0,\n",
       " 0.03916666666666669,\n",
       " 0.3333333333333333,\n",
       " 0.13321428571428573,\n",
       " 0.9765625,\n",
       " 0.31223290598290604,\n",
       " 0.6,\n",
       " 0.1323489946044294,\n",
       " 1.0,\n",
       " 0.30951975108225105,\n",
       " 0.11818181818181818,\n",
       " 0.0,\n",
       " 0.4681818181818182,\n",
       " 0.0,\n",
       " 0.0,\n",
       " 0.24999999999999997,\n",
       " 0.7666666666666666,\n",
       " 0.4681818181818182,\n",
       " 0.6,\n",
       " 0.13636363636363635,\n",
       " -0.30833333333333324,\n",
       " 0.3183333333333333,\n",
       " 0.8,\n",
       " 0.33999999999999997,\n",
       " 0.5681818181818181,\n",
       " 0.3550865800865801,\n",
       " 0.24375000000000002,\n",
       " 0.22601190476190475,\n",
       " 0.0,\n",
       " 0.11821428571428572,\n",
       " 0.0,\n",
       " -0.22470238095238093,\n",
       " 0.4,\n",
       " 0.2729166666666667,\n",
       " 0.8,\n",
       " 0.34076388888888887,\n",
       " 0.8,\n",
       " 0.4017857142857143,\n",
       " 0.5,\n",
       " 0.3587878787878788,\n",
       " 0.31666666666666665,\n",
       " 0.1726689976689977,\n",
       " -0.75,\n",
       " 0.09269230769230768,\n",
       " 0.07083333333333335,\n",
       " 0.07361111111111111,\n",
       " 0.7,\n",
       " 0.1240634568683349,\n",
       " 0.6875,\n",
       " 0.29388888888888887,\n",
       " 1.0,\n",
       " 0.29039473684210515,\n",
       " 0.6000000000000001,\n",
       " 0.3742424242424242,\n",
       " 0.0,\n",
       " 0.035682957393483705,\n",
       " 0.0,\n",
       " 0.06056763285024154,\n",
       " 0.375,\n",
       " 0.2185468319559229,\n",
       " 0.0,\n",
       " 0.22347374847374843,\n",
       " 0.5,\n",
       " 0.5916666666666667,\n",
       " 0.2777777777777778,\n",
       " 0.3251984126984127,\n",
       " 0.8,\n",
       " 0.3203296703296703,\n",
       " 0.7,\n",
       " 0.3472222222222223,\n",
       " 0.0,\n",
       " 0.2121428571428572,\n",
       " 0.325,\n",
       " 0.2494047619047619,\n",
       " 0.0,\n",
       " 0.08543470418470418,\n",
       " 0.8,\n",
       " 0.27593936011904757,\n",
       " 0.7,\n",
       " 0.16057777777777776,\n",
       " 1.0,\n",
       " 0.16214192708333336,\n",
       " 1.0,\n",
       " 0.32491319444444444,\n",
       " 0.7,\n",
       " 0.2764158829676071,\n",
       " 0.375,\n",
       " 0.2813616071428572,\n",
       " 0.5875,\n",
       " 0.30416666666666664,\n",
       " 0.4,\n",
       " 0.5655952380952382,\n",
       " 0.4000000000000001,\n",
       " 0.24352040816326534,\n",
       " 0.8,\n",
       " 0.23157509157509154,\n",
       " 0.325,\n",
       " 0.15352247111862496,\n",
       " 0.35714285714285715,\n",
       " 0.1680338541666667,\n",
       " 0.41818181818181815,\n",
       " 0.2459487734487735,\n",
       " 0.7,\n",
       " 0.575,\n",
       " 1.0,\n",
       " 0.20583333333333334,\n",
       " 0.0,\n",
       " 0.28928571428571426,\n",
       " 0.0,\n",
       " 0.30815018315018317,\n",
       " 0.7,\n",
       " 0.2672619047619048,\n",
       " 0.0,\n",
       " 0.07919733044733045,\n",
       " -0.091,\n",
       " 0.29768518518518516,\n",
       " -1.0,\n",
       " -0.004761904761904775,\n",
       " 0.4708333333333334,\n",
       " 0.22048611111111113,\n",
       " 1.0,\n",
       " 0.30792011019283744,\n",
       " 0.0,\n",
       " 0.12398205659075225,\n",
       " 1.0,\n",
       " 0.2625,\n",
       " 0.8,\n",
       " 0.1853650137741047,\n",
       " 1.0,\n",
       " 0.36074561403508776,\n",
       " 0.5416666666666666,\n",
       " 0.6,\n",
       " 0.6,\n",
       " 0.07785087719298248,\n",
       " 0.475,\n",
       " 0.3796875,\n",
       " 0.4,\n",
       " 0.3733974358974359,\n",
       " -1.0,\n",
       " 0.1261904761904762,\n",
       " 0.0,\n",
       " 0.2173181818181818,\n",
       " 0.8,\n",
       " 0.12212121212121213,\n",
       " 1.0,\n",
       " 0.35113636363636364,\n",
       " 0.45,\n",
       " 0.13797619047619047,\n",
       " 0.5,\n",
       " 0.3622222222222222,\n",
       " 0.3666666666666667,\n",
       " 0.16435185185185183,\n",
       " 1.0,\n",
       " 0.42857142857142855,\n",
       " 0.55,\n",
       " 0.2526515151515151,\n",
       " 0.8,\n",
       " 0.22657747689662586,\n",
       " 0.3666666666666667,\n",
       " 0.1277777777777778,\n",
       " 0.13636363636363635,\n",
       " 0.12911938938254727,\n",
       " 0.8,\n",
       " 0.32240665584415584,\n",
       " 0.3571428571428571,\n",
       " 0.17117283950617285,\n",
       " 0.21666666666666665,\n",
       " 0.14154084397986835,\n",
       " 1.0,\n",
       " 0.17123655913978497,\n",
       " 0.175,\n",
       " 0.43437499999999996,\n",
       " 1.0,\n",
       " 0.2137700534759358,\n",
       " 0.0,\n",
       " -0.2625,\n",
       " 0.8,\n",
       " 0.08382352941176473,\n",
       " 0.8,\n",
       " 0.1801481481481482,\n",
       " 0.5,\n",
       " 0.06703643578643581,\n",
       " 0.5,\n",
       " 0.06731200897867563,\n",
       " 0.35,\n",
       " 0.18796428571428575,\n",
       " 0.0,\n",
       " 0.5068181818181818,\n",
       " 0.0,\n",
       " 0.29047619047619044,\n",
       " 0.3,\n",
       " 0.3279656862745097,\n",
       " 0.0,\n",
       " 0.3022108843537415,\n",
       " 0.275,\n",
       " 0.019984567901234568,\n",
       " 0.3499999999999999,\n",
       " 0.039460784313725496,\n",
       " 0.0,\n",
       " 0.4760672198172198,\n",
       " 0.65,\n",
       " 0.28049242424242427,\n",
       " 0.025000000000000022,\n",
       " 0.1879693190407476,\n",
       " 0.4,\n",
       " 0.3077935606060606,\n",
       " 0.0,\n",
       " 0.34097222222222223,\n",
       " 0.0,\n",
       " 0.34638787878787874,\n",
       " 0.575,\n",
       " 0.22580594302816526,\n",
       " 0.3416666666666667,\n",
       " 0.2619267399267399,\n",
       " 0.7,\n",
       " 0.3865909090909091,\n",
       " 0.07499999999999998,\n",
       " 0.20333333333333334,\n",
       " 0.8,\n",
       " 0.09557291666666667,\n",
       " 0.4,\n",
       " 0.29433760683760685,\n",
       " 1.0,\n",
       " 0.21129948839039744,\n",
       " 0.0,\n",
       " 0.3,\n",
       " 0.0,\n",
       " 0.13445537305831423,\n",
       " 0.0,\n",
       " 0.012499999999999997,\n",
       " 0.35,\n",
       " 0.2381200396825397,\n",
       " 0.78125,\n",
       " 0.2303921568627451,\n",
       " -0.15,\n",
       " 0.15225,\n",
       " 0.0,\n",
       " 0.3586021505376345,\n",
       " 1.0,\n",
       " 0.615,\n",
       " 0.8,\n",
       " 0.2658068783068783,\n",
       " 0.325,\n",
       " 0.3715873015873016,\n",
       " 0.3666666666666667,\n",
       " 0.28188405797101446,\n",
       " 0.8,\n",
       " 0.428030303030303,\n",
       " -0.25,\n",
       " 0.010026400367309462,\n",
       " 1.0,\n",
       " 0.13783333333333336,\n",
       " 0.0,\n",
       " 0.41666666666666663,\n",
       " 0.04999999999999999,\n",
       " 0.2114583333333334,\n",
       " 0.0,\n",
       " 0.35784313725490197,\n",
       " 0.0,\n",
       " 0.18959439959439958,\n",
       " 0.9,\n",
       " 0.2489010989010989,\n",
       " 0.8,\n",
       " 0.27432840307840306,\n",
       " 0.4,\n",
       " 0.30481972789115647,\n",
       " 0.0,\n",
       " 0.1677777777777778,\n",
       " 0.5,\n",
       " 0.36074866310160425,\n",
       " 0.0,\n",
       " 0.14211309523809526,\n",
       " 1.0,\n",
       " 0.32,\n",
       " 0.65,\n",
       " 0.5287619047619047,\n",
       " -0.6,\n",
       " -0.07727272727272726,\n",
       " 0.7999999999999999,\n",
       " 0.30787385129490386,\n",
       " 0.30625,\n",
       " 0.07840461262875059,\n",
       " 0.0,\n",
       " 0.19494949494949493,\n",
       " 0.7,\n",
       " 0.34754689754689755,\n",
       " 0.8,\n",
       " 0.08766233766233765,\n",
       " -0.15555555555555559,\n",
       " 0.18767361111111108,\n",
       " 0.0,\n",
       " 0.2406060606060606,\n",
       " 0.0,\n",
       " 0.13611111111111113,\n",
       " 0.7,\n",
       " 0.19052785923753665,\n",
       " -0.15,\n",
       " 0.23843537414965987,\n",
       " 1.0,\n",
       " 0.20769015151515155,\n",
       " 0.0,\n",
       " 0.33769841269841266,\n",
       " -0.55,\n",
       " -0.059267399267399275,\n",
       " 0.5,\n",
       " 0.4442708333333334,\n",
       " 0.925,\n",
       " 0.3015664160401002,\n",
       " 1.0,\n",
       " 0.2782183908045977,\n",
       " 0.75,\n",
       " 0.26666666666666666,\n",
       " 0.625,\n",
       " 0.3265993265993266,\n",
       " 0.0,\n",
       " 0.07540476190476189,\n",
       " 0.0,\n",
       " 0.3413412975912976,\n",
       " 0.0,\n",
       " -0.002777777777777777,\n",
       " 1.0,\n",
       " 0.20392592592592595,\n",
       " 1.0,\n",
       " 0.1967545351473923,\n",
       " 0.10000000000000003,\n",
       " -0.02272727272727274,\n",
       " 0.8,\n",
       " 0.34381868131868126,\n",
       " 0.3,\n",
       " 0.2857142857142857,\n",
       " 0.0,\n",
       " 0.8,\n",
       " 0.0,\n",
       " 0.675,\n",
       " 0.0)"
      ]
     },
     "execution_count": 33,
     "metadata": {},
     "output_type": "execute_result"
    }
   ],
   "source": [
    "sentiment"
   ]
  },
  {
   "cell_type": "markdown",
   "metadata": {},
   "source": [
    "To find the average of the sentiment score and subjectivity score in tuples, Let's build a custom function for calculating these two attributes average."
   ]
  },
  {
   "cell_type": "code",
   "execution_count": 34,
   "metadata": {},
   "outputs": [],
   "source": [
    "def average(values):\n",
    "    sum = 0\n",
    "    count = 0\n",
    "    for num in values:\n",
    "        try:\n",
    "            sum += float(num)\n",
    "            count += 1\n",
    "        except: pass\n",
    "    return sum / count"
   ]
  },
  {
   "cell_type": "markdown",
   "metadata": {},
   "source": [
    "#### Pattern Results"
   ]
  },
  {
   "cell_type": "code",
   "execution_count": 35,
   "metadata": {},
   "outputs": [
    {
     "name": "stdout",
     "output_type": "stream",
     "text": [
      "The sentiment of hotel review is:    0.32\n",
      "The subjectivity of hotel review is:    0.57\n"
     ]
    }
   ],
   "source": [
    "print(\"The sentiment of hotel review is:\",'%7.2f'%(average(sentiment)))\n",
    "print(\"The subjectivity of hotel review is:\",'%7.2f'%(average(subjectivity)))"
   ]
  },
  {
   "cell_type": "markdown",
   "metadata": {},
   "source": [
    "### NLTK Vader vs Text Blob vs Pattern"
   ]
  },
  {
   "cell_type": "markdown",
   "metadata": {},
   "source": [
    "Now let's compare the results of the three libraries"
   ]
  },
  {
   "cell_type": "code",
   "execution_count": 36,
   "metadata": {},
   "outputs": [],
   "source": [
    "#importing matplotlib to visualize the results\n",
    "import matplotlib.pyplot as plt\n",
    "import numpy"
   ]
  },
  {
   "cell_type": "code",
   "execution_count": 37,
   "metadata": {},
   "outputs": [],
   "source": [
    "labels = ['NLTK Vader','TextBlob','Pattern']\n",
    "sentiment_count = [0.59,0.31,0.32]\n",
    "\n",
    "x = np.arange(len(labels))  # the label locations\n",
    "width = 0.35  # the width of the bars"
   ]
  },
  {
   "cell_type": "code",
   "execution_count": 38,
   "metadata": {},
   "outputs": [
    {
     "data": {
      "image/png": "[encoded data removed]",
      "text/plain": [
       "<Figure size 432x288 with 1 Axes>"
      ]
     },
     "metadata": {
      "needs_background": "light"
     },
     "output_type": "display_data"
    }
   ],
   "source": [
    "fig, ax = plt.subplots()\n",
    "rects = ax.bar(x, sentiment_count, width, label='NLP_Libraries')\n",
    "\n",
    "ax.set_ylabel('Polarity_Score')\n",
    "ax.set_title('Comparison of NLP Libraries')\n",
    "ax.set_xticks(x)\n",
    "ax.set_xticklabels(labels)\n",
    "ax.legend()\n",
    "\n",
    "\n",
    "\n",
    "plt.show()"
   ]
  },
  {
   "cell_type": "code",
   "execution_count": null,
   "metadata": {},
   "outputs": [],
   "source": []
  },
  {
   "cell_type": "code",
   "execution_count": null,
   "metadata": {},
   "outputs": [],
   "source": []
  }
 ],
 "metadata": {
  "kernelspec": {
   "display_name": "Python 3",
   "language": "python",
   "name": "python3"
  },
  "language_info": {
   "codemirror_mode": {
    "name": "ipython",
    "version": 3
   },
   "file_extension": ".py",
   "mimetype": "text/x-python",
   "name": "python",
   "nbconvert_exporter": "python",
   "pygments_lexer": "ipython3",
   "version": "3.8.7"
  }
 },
 "nbformat": 4,
 "nbformat_minor": 4
}
