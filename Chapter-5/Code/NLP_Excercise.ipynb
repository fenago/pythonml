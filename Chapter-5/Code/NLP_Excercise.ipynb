{
 "cells": [
  {
   "cell_type": "code",
   "execution_count": null,
   "metadata": {
    "executionInfo": {
     "elapsed": 452,
     "status": "ok",
     "timestamp": 1625335254194,
     "user": {
      "displayName": "Bharath Kumar",
      "photoUrl": "https://lh3.googleusercontent.com/a-/AOh14Ggb_xp-gXCTQIDjnT3fR_fAZQzItK1E5U9sunL_rw=s64",
      "userId": "04449719777745726086"
     },
     "user_tz": -330
    },
    "id": "6UzTLALBHLEb"
   },
   "outputs": [],
   "source": [
    "import numpy as np\n",
    "\n",
    "from sklearn.metrics import accuracy_score\n",
    "from keras.datasets import    reuters\n",
    "from keras.preprocessing.sequence import pad_sequences\n",
    "from tensorflow.keras.utils import to_categorical\n",
    "from keras.models import Sequential\n",
    "from keras.layers import Dense, SimpleRNN, Activation\n",
    "from keras import optimizers\n",
    "from keras.wrappers.scikit_learn import KerasClassifier"
   ]
  },
  {
   "cell_type": "code",
   "execution_count": null,
   "metadata": {
    "colab": {
     "base_uri": "https://localhost:8080/"
    },
    "executionInfo": {
     "elapsed": 532,
     "status": "ok",
     "timestamp": 1625335344902,
     "user": {
      "displayName": "Bharath Kumar",
      "photoUrl": "https://lh3.googleusercontent.com/a-/AOh14Ggb_xp-gXCTQIDjnT3fR_fAZQzItK1E5U9sunL_rw=s64",
      "userId": "04449719777745726086"
     },
     "user_tz": -330
    },
    "id": "hALbwMLZiO_F",
    "outputId": "44a09237-f76c-421f-8d55-8bb2932df673"
   },
   "outputs": [],
   "source": [
    "# parameters for data load\n",
    "num_words = 30000\n",
    "maxlen = 50\n",
    "test_split = 0.3\n",
    "\n",
    "(X_train, y_train), (X_test, y_test) = reuters.load_data(num_words = num_words, maxlen = maxlen, test_split = test_split)"
   ]
  },
  {
   "cell_type": "code",
   "execution_count": null,
   "metadata": {
    "executionInfo": {
     "elapsed": 448,
     "status": "ok",
     "timestamp": 1625335372659,
     "user": {
      "displayName": "Bharath Kumar",
      "photoUrl": "https://lh3.googleusercontent.com/a-/AOh14Ggb_xp-gXCTQIDjnT3fR_fAZQzItK1E5U9sunL_rw=s64",
      "userId": "04449719777745726086"
     },
     "user_tz": -330
    },
    "id": "U-kEj1Y4iU0T"
   },
   "outputs": [],
   "source": [
    "# pad the sequences with zeros \n",
    "# padding parameter is set to 'post' => 0's are appended to end of sequences\n",
    "X_train = pad_sequences(X_train, padding = 'post')\n",
    "X_test = pad_sequences(X_test, padding = 'post')\n"
   ]
  },
  {
   "cell_type": "code",
   "execution_count": null,
   "metadata": {
    "executionInfo": {
     "elapsed": 454,
     "status": "ok",
     "timestamp": 1625335381272,
     "user": {
      "displayName": "Bharath Kumar",
      "photoUrl": "https://lh3.googleusercontent.com/a-/AOh14Ggb_xp-gXCTQIDjnT3fR_fAZQzItK1E5U9sunL_rw=s64",
      "userId": "04449719777745726086"
     },
     "user_tz": -330
    },
    "id": "kB-Uo7GTiaMI"
   },
   "outputs": [],
   "source": [
    "X_train = np.array(X_train).reshape((X_train.shape[0], X_train.shape[1], 1))\n",
    "X_test = np.array(X_test).reshape((X_test.shape[0], X_test.shape[1], 1))\n"
   ]
  },
  {
   "cell_type": "code",
   "execution_count": null,
   "metadata": {
    "executionInfo": {
     "elapsed": 447,
     "status": "ok",
     "timestamp": 1625335389258,
     "user": {
      "displayName": "Bharath Kumar",
      "photoUrl": "https://lh3.googleusercontent.com/a-/AOh14Ggb_xp-gXCTQIDjnT3fR_fAZQzItK1E5U9sunL_rw=s64",
      "userId": "04449719777745726086"
     },
     "user_tz": -330
    },
    "id": "mqizDzzficFd"
   },
   "outputs": [],
   "source": [
    "y_data = np.concatenate((y_train, y_test))\n",
    "y_data = to_categorical(y_data)\n",
    "y_train = y_data[:1395]\n",
    "y_test = y_data[1395:]\n"
   ]
  },
  {
   "cell_type": "code",
   "execution_count": null,
   "metadata": {
    "executionInfo": {
     "elapsed": 421,
     "status": "ok",
     "timestamp": 1625335398708,
     "user": {
      "displayName": "Bharath Kumar",
      "photoUrl": "https://lh3.googleusercontent.com/a-/AOh14Ggb_xp-gXCTQIDjnT3fR_fAZQzItK1E5U9sunL_rw=s64",
      "userId": "04449719777745726086"
     },
     "user_tz": -330
    },
    "id": "o29nH-JRieL_"
   },
   "outputs": [],
   "source": [
    "def vanilla_rnn():\n",
    "    model = Sequential()\n",
    "    model.add(SimpleRNN(50, input_shape = (49,1), return_sequences = False))\n",
    "    model.add(Dense(46))\n",
    "    model.add(Activation('softmax'))\n",
    "    \n",
    "    adam = optimizers.Adam(lr = 0.001)\n",
    "    model.compile(loss = 'categorical_crossentropy', optimizer = adam, metrics = ['accuracy'])\n",
    "    \n",
    "    return model"
   ]
  },
  {
   "cell_type": "code",
   "execution_count": null,
   "metadata": {
    "colab": {
     "base_uri": "https://localhost:8080/"
    },
    "executionInfo": {
     "elapsed": 197701,
     "status": "ok",
     "timestamp": 1625335606769,
     "user": {
      "displayName": "Bharath Kumar",
      "photoUrl": "https://lh3.googleusercontent.com/a-/AOh14Ggb_xp-gXCTQIDjnT3fR_fAZQzItK1E5U9sunL_rw=s64",
      "userId": "04449719777745726086"
     },
     "user_tz": -330
    },
    "id": "ptNtZlG8igbl",
    "outputId": "29668d10-d6aa-45a4-bcf5-99e29e510dd0"
   },
   "outputs": [],
   "source": [
    "model = KerasClassifier(build_fn = vanilla_rnn, epochs = 200, batch_size = 50, verbose = 1)\n",
    "model.fit(X_train, y_train)"
   ]
  },
  {
   "cell_type": "code",
   "execution_count": null,
   "metadata": {
    "colab": {
     "base_uri": "https://localhost:8080/"
    },
    "executionInfo": {
     "elapsed": 1150,
     "status": "ok",
     "timestamp": 1625335650581,
     "user": {
      "displayName": "Bharath Kumar",
      "photoUrl": "https://lh3.googleusercontent.com/a-/AOh14Ggb_xp-gXCTQIDjnT3fR_fAZQzItK1E5U9sunL_rw=s64",
      "userId": "04449719777745726086"
     },
     "user_tz": -330
    },
    "id": "gtUllIhIjcWV",
    "outputId": "ffef2ff4-875b-4424-d535-e3726d6fd2de"
   },
   "outputs": [],
   "source": [
    "y_pred = model.predict(X_test)\n",
    "y_test_ = np.argmax(y_test, axis = 1)\n",
    "\n",
    "print(accuracy_score(y_pred, y_test_))"
   ]
  },
  {
   "cell_type": "code",
   "execution_count": null,
   "metadata": {
    "executionInfo": {
     "elapsed": 22,
     "status": "ok",
     "timestamp": 1625335697473,
     "user": {
      "displayName": "Bharath Kumar",
      "photoUrl": "https://lh3.googleusercontent.com/a-/AOh14Ggb_xp-gXCTQIDjnT3fR_fAZQzItK1E5U9sunL_rw=s64",
      "userId": "04449719777745726086"
     },
     "user_tz": -330
    },
    "id": "Kcn0m1Qzjfy9"
   },
   "outputs": [],
   "source": [
    "import numpy as np\n",
    "\n",
    "from sklearn.metrics import accuracy_score\n",
    "from keras.datasets import reuters\n",
    "from keras.preprocessing.sequence import pad_sequences\n",
    "from tensorflow.keras.utils import to_categorical\n",
    "from keras.models import Sequential\n",
    "from keras.layers import Dense, SimpleRNN, Activation\n",
    "from keras import optimizers\n",
    "from keras.wrappers.scikit_learn import KerasClassifier"
   ]
  },
  {
   "cell_type": "code",
   "execution_count": null,
   "metadata": {
    "colab": {
     "base_uri": "https://localhost:8080/"
    },
    "executionInfo": {
     "elapsed": 661,
     "status": "ok",
     "timestamp": 1625335711663,
     "user": {
      "displayName": "Bharath Kumar",
      "photoUrl": "https://lh3.googleusercontent.com/a-/AOh14Ggb_xp-gXCTQIDjnT3fR_fAZQzItK1E5U9sunL_rw=s64",
      "userId": "04449719777745726086"
     },
     "user_tz": -330
    },
    "id": "lwNHFFnMjjAC",
    "outputId": "876ce9ba-e717-4c7d-b4a2-3df34fb68973"
   },
   "outputs": [],
   "source": [
    "# parameters for data load\n",
    "num_words = 30000\n",
    "maxlen = 50\n",
    "test_split = 0.3\n",
    "\n",
    "(X_train, y_train), (X_test, y_test) = reuters.load_data(num_words = num_words, maxlen = maxlen, test_split = test_split)\n"
   ]
  },
  {
   "cell_type": "code",
   "execution_count": null,
   "metadata": {
    "executionInfo": {
     "elapsed": 399,
     "status": "ok",
     "timestamp": 1625335720352,
     "user": {
      "displayName": "Bharath Kumar",
      "photoUrl": "https://lh3.googleusercontent.com/a-/AOh14Ggb_xp-gXCTQIDjnT3fR_fAZQzItK1E5U9sunL_rw=s64",
      "userId": "04449719777745726086"
     },
     "user_tz": -330
    },
    "id": "4hFUaQ9Wjsii"
   },
   "outputs": [],
   "source": [
    "# pad the sequences with zeros \n",
    "# padding parameter is set to 'post' => 0's are appended to end of sequences\n",
    "X_train = pad_sequences(X_train, padding = 'post')\n",
    "X_test = pad_sequences(X_test, padding = 'post')\n"
   ]
  },
  {
   "cell_type": "code",
   "execution_count": null,
   "metadata": {
    "executionInfo": {
     "elapsed": 438,
     "status": "ok",
     "timestamp": 1625335727767,
     "user": {
      "displayName": "Bharath Kumar",
      "photoUrl": "https://lh3.googleusercontent.com/a-/AOh14Ggb_xp-gXCTQIDjnT3fR_fAZQzItK1E5U9sunL_rw=s64",
      "userId": "04449719777745726086"
     },
     "user_tz": -330
    },
    "id": "QggzMha8ju3u"
   },
   "outputs": [],
   "source": [
    "X_train = np.array(X_train).reshape((X_train.shape[0], X_train.shape[1], 1))\n",
    "X_test = np.array(X_test).reshape((X_test.shape[0], X_test.shape[1], 1))\n"
   ]
  },
  {
   "cell_type": "code",
   "execution_count": null,
   "metadata": {
    "executionInfo": {
     "elapsed": 375,
     "status": "ok",
     "timestamp": 1625335735031,
     "user": {
      "displayName": "Bharath Kumar",
      "photoUrl": "https://lh3.googleusercontent.com/a-/AOh14Ggb_xp-gXCTQIDjnT3fR_fAZQzItK1E5U9sunL_rw=s64",
      "userId": "04449719777745726086"
     },
     "user_tz": -330
    },
    "id": "l1efOjHEjwj7"
   },
   "outputs": [],
   "source": [
    "y_data = np.concatenate((y_train, y_test))\n",
    "y_data = to_categorical(y_data)\n",
    "y_train = y_data[:1395]\n",
    "y_test = y_data[1395:]"
   ]
  },
  {
   "cell_type": "code",
   "execution_count": null,
   "metadata": {
    "executionInfo": {
     "elapsed": 403,
     "status": "ok",
     "timestamp": 1625335746826,
     "user": {
      "displayName": "Bharath Kumar",
      "photoUrl": "https://lh3.googleusercontent.com/a-/AOh14Ggb_xp-gXCTQIDjnT3fR_fAZQzItK1E5U9sunL_rw=s64",
      "userId": "04449719777745726086"
     },
     "user_tz": -330
    },
    "id": "VtPLy52qjy2P"
   },
   "outputs": [],
   "source": [
    "def stacked_vanilla_rnn():\n",
    "    model = Sequential()\n",
    "    model.add(SimpleRNN(128, input_shape = (49,1), return_sequences = True))   # return_sequences parameter has to be set True to stack\n",
    "    model.add(SimpleRNN(128, return_sequences = True))\n",
    "    model.add(SimpleRNN(128, return_sequences = False))\n",
    "    model.add(Dense(46))\n",
    "    model.add(Activation('softmax'))\n",
    "    \n",
    "    adam = optimizers.Adam(lr = 0.001)\n",
    "    model.compile(loss = 'categorical_crossentropy', optimizer = adam, metrics = ['accuracy'])\n",
    "    \n",
    "    return model"
   ]
  },
  {
   "cell_type": "code",
   "execution_count": null,
   "metadata": {
    "colab": {
     "base_uri": "https://localhost:8080/"
    },
    "executionInfo": {
     "elapsed": 600086,
     "status": "ok",
     "timestamp": 1625336356711,
     "user": {
      "displayName": "Bharath Kumar",
      "photoUrl": "https://lh3.googleusercontent.com/a-/AOh14Ggb_xp-gXCTQIDjnT3fR_fAZQzItK1E5U9sunL_rw=s64",
      "userId": "04449719777745726086"
     },
     "user_tz": -330
    },
    "id": "ERgzW6cdj1wP",
    "outputId": "cbf63114-92e9-437e-e5b1-bb3a1587b621"
   },
   "outputs": [],
   "source": [
    "model = KerasClassifier(build_fn = stacked_vanilla_rnn, epochs = 200, batch_size = 50, verbose = 1)\n",
    "model.fit(X_train, y_train)"
   ]
  },
  {
   "cell_type": "code",
   "execution_count": null,
   "metadata": {
    "colab": {
     "base_uri": "https://localhost:8080/"
    },
    "executionInfo": {
     "elapsed": 1045,
     "status": "ok",
     "timestamp": 1625336392173,
     "user": {
      "displayName": "Bharath Kumar",
      "photoUrl": "https://lh3.googleusercontent.com/a-/AOh14Ggb_xp-gXCTQIDjnT3fR_fAZQzItK1E5U9sunL_rw=s64",
      "userId": "04449719777745726086"
     },
     "user_tz": -330
    },
    "id": "BGZmUnukmRnz",
    "outputId": "d41be424-0fbb-4bc3-dfb7-96e28034b3f7"
   },
   "outputs": [],
   "source": [
    "y_pred = model.predict(X_test)\n",
    "y_test_ = np.argmax(y_test, axis = 1)"
   ]
  },
  {
   "cell_type": "code",
   "execution_count": null,
   "metadata": {
    "colab": {
     "base_uri": "https://localhost:8080/"
    },
    "executionInfo": {
     "elapsed": 396,
     "status": "ok",
     "timestamp": 1625336400573,
     "user": {
      "displayName": "Bharath Kumar",
      "photoUrl": "https://lh3.googleusercontent.com/a-/AOh14Ggb_xp-gXCTQIDjnT3fR_fAZQzItK1E5U9sunL_rw=s64",
      "userId": "04449719777745726086"
     },
     "user_tz": -330
    },
    "id": "Fq0hf2BOmTSX",
    "outputId": "fdf83cf4-41ff-46a3-9111-16c9708e948a"
   },
   "outputs": [],
   "source": [
    "print(accuracy_score(y_pred, y_test_))"
   ]
  }
 ],
 "metadata": {
  "accelerator": "GPU",
  "colab": {
   "authorship_tag": "ABX9TyMzWujKdf+dMDBUShyJg4o9",
   "collapsed_sections": [],
   "mount_file_id": "1gytTPvDH6QjLgFOR8SsOmZ1Mc2UV_w7H",
   "name": "Chapter 7.ipynb",
   "provenance": []
  },
  "kernelspec": {
   "display_name": "Python 3",
   "language": "python",
   "name": "python3"
  },
  "language_info": {
   "codemirror_mode": {
    "name": "ipython",
    "version": 3
   },
   "file_extension": ".py",
   "mimetype": "text/x-python",
   "name": "python",
   "nbconvert_exporter": "python",
   "pygments_lexer": "ipython3",
   "version": "3.8.8"
  }
 },
 "nbformat": 4,
 "nbformat_minor": 1
}
