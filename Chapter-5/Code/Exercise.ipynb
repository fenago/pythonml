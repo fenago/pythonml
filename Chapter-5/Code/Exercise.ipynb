{
 "cells": [
  {
   "cell_type": "markdown",
   "id": "f36c4e91",
   "metadata": {},
   "source": [
    "## Feature Selection"
   ]
  },
  {
   "cell_type": "markdown",
   "id": "a1386f96",
   "metadata": {},
   "source": [
    "### Chi-square Test"
   ]
  },
  {
   "cell_type": "code",
   "execution_count": null,
   "id": "eef3e205",
   "metadata": {},
   "outputs": [],
   "source": [
    "import seaborn as sns\n",
    "import numpy as np\n",
    "df = sns.load_dataset('titanic')"
   ]
  },
  {
   "cell_type": "code",
   "execution_count": null,
   "id": "00ee8235",
   "metadata": {},
   "outputs": [],
   "source": [
    "df.head()"
   ]
  },
  {
   "cell_type": "code",
   "execution_count": null,
   "id": "0d80f92f",
   "metadata": {},
   "outputs": [],
   "source": [
    "df.info()"
   ]
  },
  {
   "cell_type": "code",
   "execution_count": null,
   "id": "581cb67e",
   "metadata": {},
   "outputs": [],
   "source": [
    "##['sex','embarked','alone','pclass','Survived']\n",
    "df=df[['sex','embarked','alone','pclass','survived']]\n",
    "df.head()"
   ]
  },
  {
   "cell_type": "code",
   "execution_count": null,
   "id": "c5153757",
   "metadata": {},
   "outputs": [],
   "source": [
    "df['sex']=np.where(df['sex']==\"male\",1,0)\n",
    "df.head()"
   ]
  },
  {
   "cell_type": "code",
   "execution_count": null,
   "id": "e7602834",
   "metadata": {},
   "outputs": [],
   "source": [
    "### Let's perform label encoding on sex column\n",
    "### let's perform label encoding on embarked\n",
    "ordinal_label = {k: i for i, k in enumerate(df['embarked'].unique(), 0)}\n",
    "df['embarked'] = df['embarked'].map(ordinal_label)"
   ]
  },
  {
   "cell_type": "code",
   "execution_count": null,
   "id": "82c8dd69",
   "metadata": {},
   "outputs": [],
   "source": [
    "df.head()"
   ]
  },
  {
   "cell_type": "code",
   "execution_count": null,
   "id": "c0022ad4",
   "metadata": {},
   "outputs": [],
   "source": [
    "### let's perform label encoding on alone\n",
    "df['alone']=np.where(df['alone']==True,1,0)"
   ]
  },
  {
   "cell_type": "code",
   "execution_count": null,
   "id": "c91db0e5",
   "metadata": {},
   "outputs": [],
   "source": [
    "df.head()"
   ]
  },
  {
   "cell_type": "code",
   "execution_count": null,
   "id": "7859bbeb",
   "metadata": {},
   "outputs": [],
   "source": [
    "### train Test split is usually done to avaoid overfitting\n",
    "from sklearn.model_selection import train_test_split\n",
    "X_train,X_test,y_train,y_test=train_test_split(df[['sex','embarked','alone','pclass']],\n",
    "                                              df['survived'],test_size=0.3,random_state=100)"
   ]
  },
  {
   "cell_type": "code",
   "execution_count": null,
   "id": "40f186a2",
   "metadata": {},
   "outputs": [],
   "source": [
    "X_train.head()"
   ]
  },
  {
   "cell_type": "code",
   "execution_count": null,
   "id": "c4767d50",
   "metadata": {},
   "outputs": [],
   "source": [
    "X_train.isnull().sum()"
   ]
  },
  {
   "cell_type": "code",
   "execution_count": null,
   "id": "91793129",
   "metadata": {},
   "outputs": [],
   "source": [
    "## Perform chi2 test\n",
    "### chi2 returns 2 values\n",
    "### Fscore and the pvalue\n",
    "from sklearn.feature_selection import chi2\n",
    "f_p_values=chi2(X_train,y_train)"
   ]
  },
  {
   "cell_type": "code",
   "execution_count": null,
   "id": "39ef8ef3",
   "metadata": {},
   "outputs": [],
   "source": [
    "f_p_values"
   ]
  },
  {
   "cell_type": "code",
   "execution_count": null,
   "id": "800b308c",
   "metadata": {},
   "outputs": [],
   "source": [
    "import pandas as pd\n",
    "p_values=pd.Series(f_p_values[1])\n",
    "p_values.index=X_train.columns\n",
    "p_values"
   ]
  },
  {
   "cell_type": "code",
   "execution_count": null,
   "id": "73dc3e0a",
   "metadata": {},
   "outputs": [],
   "source": [
    "p_values.sort_index(ascending=False)"
   ]
  },
  {
   "cell_type": "markdown",
   "id": "61567287",
   "metadata": {},
   "source": [
    "### Correlation "
   ]
  },
  {
   "cell_type": "code",
   "execution_count": null,
   "id": "ee9602f9",
   "metadata": {},
   "outputs": [],
   "source": [
    "import pandas as pd\n",
    "df=pd.read_csv('mobile_dataset.csv')\n",
    "df.head()"
   ]
  },
  {
   "cell_type": "code",
   "execution_count": null,
   "id": "f79b3a4e",
   "metadata": {},
   "outputs": [],
   "source": [
    "df.corr()"
   ]
  },
  {
   "cell_type": "code",
   "execution_count": null,
   "id": "c020318d",
   "metadata": {},
   "outputs": [],
   "source": [
    "import seaborn as sns\n",
    "import matplotlib.pyplot as plt\n",
    "corr=df.iloc[:,:-1].corr()\n",
    "top_features=corr.index\n",
    "plt.figure(figsize=(20,20))\n",
    "sns.heatmap(df[top_features].corr(),annot=True)"
   ]
  },
  {
   "cell_type": "markdown",
   "id": "f41a2e94",
   "metadata": {},
   "source": [
    "### Information gain"
   ]
  },
  {
   "cell_type": "code",
   "execution_count": null,
   "id": "e72179f4",
   "metadata": {},
   "outputs": [],
   "source": [
    "import pandas as pd\n",
    "data = pd.read_csv(\"diabetes.csv\")\n",
    "data.head()"
   ]
  },
  {
   "cell_type": "code",
   "execution_count": null,
   "id": "3a3c4fb9",
   "metadata": {},
   "outputs": [],
   "source": [
    "Y = data['Outcome']\n",
    "X = data.iloc[:, 0:8]"
   ]
  },
  {
   "cell_type": "code",
   "execution_count": null,
   "id": "3923b89b",
   "metadata": {},
   "outputs": [],
   "source": [
    "from sklearn.feature_selection import mutual_info_classif\n",
    "importance = mutual_info_classif(X,Y)\n",
    "feat_importance = pd.Series(importance, data.columns[0: len(data.columns)-1])\n",
    "feat_importance.plot(kind='barh', color='teal')"
   ]
  },
  {
   "cell_type": "markdown",
   "id": "6314c922",
   "metadata": {},
   "source": [
    "### Variance Threshold"
   ]
  },
  {
   "cell_type": "code",
   "execution_count": null,
   "id": "3a24b801",
   "metadata": {},
   "outputs": [],
   "source": [
    "from sklearn.feature_selection import VarianceThreshold\n",
    "\n",
    "v_threshold = VarianceThreshold(threshold=0)\n",
    "v_threshold.fit(X) #fit finds the features with zero variance\n",
    "v_threshold.get_support()"
   ]
  },
  {
   "cell_type": "markdown",
   "id": "60bd3f7b",
   "metadata": {},
   "source": [
    "## Wrapper Methods"
   ]
  },
  {
   "cell_type": "markdown",
   "id": "92df75a0",
   "metadata": {},
   "source": [
    "### Forward Feature Selection"
   ]
  },
  {
   "cell_type": "code",
   "execution_count": null,
   "id": "53620b9d",
   "metadata": {},
   "outputs": [],
   "source": [
    "from sklearn.linear_model import LogisticRegression\n",
    "from mlxtend.feature_selection import SequentialFeatureSelector\n",
    "from sklearn.model_selection import train_test_split\n",
    "\n",
    "\n",
    "\n",
    "x_train,x_test,y_train,y_test = train_test_split(X, Y, test_size=0.30, \n",
    "                                                 random_state=335)\n",
    "\n",
    "lr=LogisticRegression()\n",
    "\n",
    "ffs = SequentialFeatureSelector(lr, k_features='best', forward=True, \n",
    "                                n_jobs=-1)\n",
    "ffs.fit(X,Y)\n",
    "features = list(ffs.k_feature_names_)\n",
    "print(features)\n",
    "lr.fit(x_train[features], y_train)\n",
    "y_pred = lr.predict(x_train[features])"
   ]
  },
  {
   "cell_type": "markdown",
   "id": "a8650526",
   "metadata": {},
   "source": [
    "### Backward Feature Selction"
   ]
  },
  {
   "cell_type": "code",
   "execution_count": null,
   "id": "8510d75a",
   "metadata": {},
   "outputs": [],
   "source": [
    "lr = LogisticRegression(max_iter=500)\n",
    "bfs = SequentialFeatureSelector(lr, k_features='best', forward=False, \n",
    "                                n_jobs=-1)\n",
    "bfs.fit(X,Y)\n",
    "features = list(bfs.k_feature_names_)\n",
    "print(features)\n",
    "lr.fit(x_train[features], y_train)\n",
    "y_pred = lr.predict(x_train[features])"
   ]
  },
  {
   "cell_type": "markdown",
   "id": "50895385",
   "metadata": {},
   "source": [
    "### Recursive Feature Elimiation"
   ]
  },
  {
   "cell_type": "code",
   "execution_count": null,
   "id": "7f33473c",
   "metadata": {},
   "outputs": [],
   "source": [
    "from sklearn.feature_selection import RFE\n",
    "rfe = RFE(lr, n_features_to_select=7)\n",
    "rfe.fit(x_train, y_train)\n",
    "y_pred = rfe.predict(x_train)"
   ]
  },
  {
   "cell_type": "markdown",
   "id": "68a81bec",
   "metadata": {},
   "source": [
    "## Embedded Methods"
   ]
  },
  {
   "cell_type": "markdown",
   "id": "ebc5b536",
   "metadata": {},
   "source": [
    "### LASSO Regularization (L1)"
   ]
  },
  {
   "cell_type": "code",
   "execution_count": null,
   "id": "6bdf920c",
   "metadata": {},
   "outputs": [],
   "source": [
    "from sklearn.feature_selection import SelectFromModel\n",
    "\n",
    "#set regularization parameter C=1\n",
    "logistic = LogisticRegression(C=1, penalty='l1', solver='liblinear',\n",
    "                             random_state=7).fit(X, Y)\n",
    "model = SelectFromModel(logistic, prefit=True)\n",
    "\n",
    "X_new = model.transform(X)\n"
   ]
  },
  {
   "cell_type": "code",
   "execution_count": null,
   "id": "fb28c5ff",
   "metadata": {},
   "outputs": [],
   "source": [
    "X_new"
   ]
  },
  {
   "cell_type": "markdown",
   "id": "58733e86",
   "metadata": {},
   "source": [
    "### Random Forest Importance"
   ]
  },
  {
   "cell_type": "code",
   "execution_count": null,
   "id": "d22a2c72",
   "metadata": {},
   "outputs": [],
   "source": [
    "from sklearn.ensemble import RandomForestClassifier\n",
    "\n",
    "#create the random forest with your hyperparamets\n",
    "model = RandomForestClassifier(n_estimators=300)\n",
    "\n",
    "# fit the model to start training\n",
    "model.fit(X, Y)\n",
    "\n",
    "# get the importance of the resulting features\n",
    "importances = model.feature_importances_\n",
    "\n",
    "# create a data frame for visualization\n",
    "final_df = pd.DataFrame({'Features':pd.DataFrame(X).columns, \n",
    "                         \"Importances\":importances})\n",
    "final_df.set_index(\"Importances\")\n",
    "\n",
    "#sort in ascending order for better visualization\n",
    "final_df = final_df.sort_values('Importances')\n",
    "\n",
    "#plot the feature importances in bars\n",
    "final_df.plot.bar(color='teal')"
   ]
  },
  {
   "cell_type": "code",
   "execution_count": null,
   "id": "6315472f",
   "metadata": {},
   "outputs": [],
   "source": []
  },
  {
   "cell_type": "code",
   "execution_count": null,
   "id": "7f845ae3",
   "metadata": {},
   "outputs": [],
   "source": []
  },
  {
   "cell_type": "code",
   "execution_count": null,
   "id": "e3c91c69",
   "metadata": {},
   "outputs": [],
   "source": []
  },
  {
   "cell_type": "code",
   "execution_count": null,
   "id": "1d7fc46b",
   "metadata": {},
   "outputs": [],
   "source": []
  },
  {
   "cell_type": "code",
   "execution_count": null,
   "id": "f11d225b",
   "metadata": {},
   "outputs": [],
   "source": []
  },
  {
   "cell_type": "code",
   "execution_count": null,
   "id": "41f8b4cf",
   "metadata": {},
   "outputs": [],
   "source": []
  }
 ],
 "metadata": {
  "kernelspec": {
   "display_name": "Python 3",
   "language": "python",
   "name": "python3"
  },
  "language_info": {
   "codemirror_mode": {
    "name": "ipython",
    "version": 3
   },
   "file_extension": ".py",
   "mimetype": "text/x-python",
   "name": "python",
   "nbconvert_exporter": "python",
   "pygments_lexer": "ipython3",
   "version": "3.8.8"
  }
 },
 "nbformat": 4,
 "nbformat_minor": 5
}
