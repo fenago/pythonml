{
 "cells": [
  {
   "cell_type": "code",
   "execution_count": null,
   "metadata": {},
   "outputs": [],
   "source": [
    "import pandas as pd\n",
    "import matplotlib.pyplot as plt\n",
    "import numpy as np\n",
    "import random\n",
    "import seaborn as sns\n",
    "from sklearn.model_selection import train_test_split\n",
    "from sklearn.model_selection import StratifiedKFold\n",
    "from sklearn.model_selection import GridSearchCV\n",
    "from imblearn.over_sampling import SMOTE\n",
    "from xgboost import XGBClassifier\n",
    "from xgboost import Booster\n",
    "from xgboost import DMatrix\n",
    "from sklearn import metrics\n",
    "from datetime import datetime"
   ]
  },
  {
   "cell_type": "markdown",
   "metadata": {},
   "source": [
    "#### Downlaod creditcard.csv file from google drive if not present in current directory\n",
    "https://drive.google.com/file/d/1ezt566PKbT-YbH-xgs0PbIdlR8MuI31K/view?usp=sharing\n",
    "    "
   ]
  },
  {
   "cell_type": "code",
   "execution_count": null,
   "metadata": {},
   "outputs": [],
   "source": [
    "dataDF = pd.read_csv(\"creditcard.csv\")\n",
    "dataDF.head()"
   ]
  },
  {
   "cell_type": "code",
   "execution_count": null,
   "metadata": {},
   "outputs": [],
   "source": [
    "dataDF.info()"
   ]
  },
  {
   "cell_type": "code",
   "execution_count": null,
   "metadata": {},
   "outputs": [],
   "source": [
    "value_counts = dataDF[\"Class\"].value_counts()\n",
    "value_counts.plot(kind=\"bar\", title=\"Class distribution of the target variable\")"
   ]
  },
  {
   "cell_type": "code",
   "execution_count": null,
   "metadata": {},
   "outputs": [],
   "source": [
    "pd.set_option(\"display.float_format\", lambda x: \"%.3f\" % x)\n",
    "dataDF.describe()"
   ]
  },
  {
   "cell_type": "code",
   "execution_count": null,
   "metadata": {},
   "outputs": [],
   "source": [
    "dataDF[[\"Amount\", \"Time\"]].describe()"
   ]
  },
  {
   "cell_type": "code",
   "execution_count": null,
   "metadata": {},
   "outputs": [],
   "source": [
    "ax = dataDF.drop(\"Class\", axis=1).hist(figsize=(10,12),bins=100)\n",
    "# We hide the axes' labels to make the plot neater and more compact\n",
    "for axis in ax.flatten():\n",
    "    axis.set_xticklabels([])\n",
    "    axis.set_yticklabels([])"
   ]
  },
  {
   "cell_type": "code",
   "execution_count": null,
   "metadata": {},
   "outputs": [],
   "source": [
    "dataDF[\"Hour\"] = dataDF[\"Time\"].apply(datetime.fromtimestamp).dt.hour\n",
    "fig, ax = plt.subplots(2, figsize=(10,7))\n",
    "for a in ax:\n",
    "    a.set_xticks(range(24))\n",
    "dataDF.loc[dataDF[\"Class\"] == 0][\"Hour\"].hist(bins=np.arange(24)-0.5,\n",
    "                                              ax=ax[0], grid=False)\n",
    "dataDF.loc[dataDF[\"Class\"] == 1][\"Hour\"].hist(bins=np.arange(24)-0.5, \n",
    "                                              ax=ax[1], grid=False)\n",
    "ax[0].title.set_text(\"Legitimate Transactions\")\n",
    "ax[1].title.set_text(\"Fraudulent Transactions\")\n",
    "plt.subplots_adjust(hspace=0.3)"
   ]
  },
  {
   "cell_type": "code",
   "execution_count": null,
   "metadata": {},
   "outputs": [],
   "source": [
    "def compare_leg_fraud(attribute):\n",
    "    leg_trS = dataDF.loc[dataDF[\"Class\"] == 0][attribute].rename(\"Legitimate\").describe()\n",
    "    frd_trS = dataDF.loc[dataDF[\"Class\"] == 1][attribute].rename(\"Fraudulent\").describe()\n",
    "    tr_hourDF = leg_trS.to_frame().join(frd_trS.to_frame())\n",
    "    return tr_hourDF\n",
    "compare_leg_fraud(\"Hour\")"
   ]
  },
  {
   "cell_type": "code",
   "execution_count": null,
   "metadata": {},
   "outputs": [],
   "source": [
    "fig, ax = plt.subplots(2, figsize=(9,7))\n",
    "dataDF.loc[dataDF[\"Class\"] == 0][\"Amount\"].hist(bins=30, ax=ax[0])\n",
    "dataDF.loc[dataDF[\"Class\"] == 1][\"Amount\"].hist(bins=30, ax=ax[1])\n",
    "ax[0].title.set_text(\"Legitimate Transactions\")\n",
    "ax[1].title.set_text(\"Fraudulent Transactions\")\n",
    "plt.subplots_adjust(hspace=0.3)"
   ]
  },
  {
   "cell_type": "code",
   "execution_count": null,
   "metadata": {},
   "outputs": [],
   "source": [
    "compare_leg_fraud(\"Amount\")"
   ]
  },
  {
   "cell_type": "code",
   "execution_count": null,
   "metadata": {},
   "outputs": [],
   "source": [
    "(dataDF.loc[dataDF[\"Class\"] == 0][\"Amount\"].value_counts(normalize=True)*100).head()"
   ]
  },
  {
   "cell_type": "code",
   "execution_count": null,
   "metadata": {},
   "outputs": [],
   "source": [
    "(dataDF.loc[dataDF[\"Class\"] == 1][\"Amount\"].value_counts(normalize=True)*100).head()"
   ]
  },
  {
   "cell_type": "code",
   "execution_count": null,
   "metadata": {},
   "outputs": [],
   "source": [
    "trainDF, testDF = train_test_split(dataDF, test_size=0.2, random_state=1234, stratify=dataDF[[\"Class\"]])\n",
    "tr_value_counts = trainDF[\"Class\"].value_counts()\n",
    "print(\"Fraudulent transactions are %.2f%% of the training set.\" % (tr_value_counts[1] * 100 / len(trainDF)))\n",
    "tst_value_counts = testDF[\"Class\"].value_counts()\n",
    "print(\"Fraudulent transactions are %.2f%% of the test set.\" % (tst_value_counts[1] * 100 / len(testDF)))"
   ]
  },
  {
   "cell_type": "code",
   "execution_count": null,
   "metadata": {},
   "outputs": [],
   "source": [
    "trainDF_norm = trainDF.copy()\n",
    "trainDF_norm[\"Amount\"] = trainDF[\"Amount\"].subtract(trainDF[\"Amount\"].mean())\n",
    "trainDF_norm[\"Hour\"] = trainDF[\"Hour\"].subtract(trainDF[\"Hour\"].mean())\n",
    "testDF_norm = testDF.copy()\n",
    "testDF_norm[\"Amount\"] = testDF[\"Amount\"].subtract(testDF[\"Amount\"].mean())\n",
    "testDF_norm[\"Hour\"] = testDF[\"Hour\"].subtract(testDF[\"Hour\"].mean())\n",
    "trainDF = trainDF_norm\n",
    "testDF = testDF_norm"
   ]
  },
  {
   "cell_type": "code",
   "execution_count": null,
   "metadata": {},
   "outputs": [],
   "source": [
    "trainDF = trainDF.drop([\"Time\"], axis=1)\n",
    "testDF = testDF.drop([\"Time\"], axis=1)"
   ]
  },
  {
   "cell_type": "code",
   "execution_count": null,
   "metadata": {},
   "outputs": [],
   "source": [
    "X_train = trainDF.iloc[:, trainDF.columns != \"Class\"]\n",
    "y_train = trainDF.iloc[:, trainDF.columns == \"Class\"]\n",
    "X_test = testDF.iloc[:, testDF.columns != \"Class\"]\n",
    "y_test = testDF.iloc[:, testDF.columns == \"Class\"]\n",
    "X_train.head()"
   ]
  },
  {
   "cell_type": "code",
   "execution_count": null,
   "metadata": {},
   "outputs": [],
   "source": [
    "X_train_smote, y_train_smote = SMOTE(random_state=1234).fit_resample(X_train, y_train)\n",
    "smote_value_counts = y_train_smote[\"Class\"].value_counts()\n",
    "print(\"Fraudulent transactions are %.2f%% of the test set.\" % (smote_value_counts[0] * 100 / len(y_train_smote)))"
   ]
  },
  {
   "cell_type": "code",
   "execution_count": null,
   "metadata": {},
   "outputs": [],
   "source": [
    "def xgboost_search(X, y, search_verbose=1):\n",
    "    params = {\n",
    "        \"gamma\":[0.5, 1, 1.5, 2, 5],\n",
    "        \"max_depth\":[3,4,5,6],\n",
    "        \"min_child_weight\": [100],\n",
    "        \"subsample\": [0.6, 0.8, 1.0],\n",
    "        \"colsample_bytree\": [0.6, 0.8, 1.0],\n",
    "        \"learning_rate\": [0.1, 0.01, 0.001]\n",
    "    }\n",
    "    xgb = XGBClassifier(objective=\"binary:logistic\", eval_metric=\"auc\", \n",
    "                        use_label_encoder=False)\n",
    "    skf = StratifiedKFold(n_splits=3, shuffle=True, random_state=1234)\n",
    "    grid_search = GridSearchCV(estimator=xgb, param_grid=params, scoring=\"roc_auc\", \n",
    "                               n_jobs=1, cv=skf.split(X,y), verbose=search_verbose)\n",
    "    grid_search.fit(X, y)\n",
    "    print(\"Best estimator: \")\n",
    "    print(grid_search.best_estimator_)\n",
    "    print(\"Parameters: \", grid_search.best_params_)\n",
    "    print(\"Highest AUC: %.2f\" % grid_search.best_score_)\n",
    "    return grid_search.best_params_"
   ]
  },
  {
   "cell_type": "code",
   "execution_count": null,
   "metadata": {},
   "outputs": [],
   "source": [
    "rows = random.sample(np.arange(0,len(X_train_smote.index)).tolist(), 5000)\n",
    "model_params = xgboost_search(X_train_smote.iloc[rows,], y_train_smote.iloc[rows,])"
   ]
  },
  {
   "cell_type": "code",
   "execution_count": null,
   "metadata": {},
   "outputs": [],
   "source": [
    "model = XGBClassifier(objective=\"binary:logistic\", eval_metric=\"auc\", use_label_encoder=False)\n",
    "model.set_params(**model_params)\n",
    "model.fit(X_train_smote, y_train_smote)"
   ]
  },
  {
   "cell_type": "code",
   "execution_count": null,
   "metadata": {},
   "outputs": [],
   "source": [
    "y_pred = model.predict_proba(X_test)[:,1]\n",
    "fp_r, tp_r, t = metrics.roc_curve(y_test, y_pred)\n",
    "auc = metrics.auc(fp_r, tp_r)\n",
    "plt.figure(figsize=(8, 6))\n",
    "plt.plot(fp_r, tp_r, label=\"AUC = %.2f\" % auc)\n",
    "plt.plot([0,1],[0,1],\"r--\")\n",
    "plt.ylabel(\"TP rate\")\n",
    "plt.xlabel(\"FP rate\")\n",
    "plt.legend(loc=4)\n",
    "plt.title(\"ROC Curve\")\n",
    "plt.show()"
   ]
  },
  {
   "cell_type": "code",
   "execution_count": null,
   "metadata": {},
   "outputs": [],
   "source": [
    "t_opt_idx = np.argmax(tp_r - fp_r)\n",
    "t_opt = t[t_opt_idx]\n",
    "print(\"Threshold value is: %.2f\" % t_opt)"
   ]
  },
  {
   "cell_type": "code",
   "execution_count": null,
   "metadata": {},
   "outputs": [],
   "source": [
    "y_pred = model.predict_proba(X_test)[:,1]\n",
    "fig, axes = plt.subplots(3,3, figsize=(10,10))\n",
    "for t, ax in enumerate(axes.flat):\n",
    "    threshold = (t+1)/10\n",
    "    y_pred_int = (y_pred > threshold).astype(int)\n",
    "    c_matrix = metrics.confusion_matrix(y_test, y_pred_int)\n",
    "    sns.heatmap(c_matrix, annot=True, cmap=\"Blues\", fmt=\"d\", ax=ax, cbar=False)\n",
    "    ax.title.set_text(\"T=%.1f\" % threshold)\n",
    "plt.subplots_adjust(hspace=0.5, wspace=0.5)\n",
    "plt.suptitle(\"Impact of threshold adjustment on the error matrix\")"
   ]
  }
 ],
 "metadata": {
  "kernelspec": {
   "display_name": "Python 3",
   "language": "python",
   "name": "python3"
  },
  "language_info": {
   "codemirror_mode": {
    "name": "ipython",
    "version": 3
   },
   "file_extension": ".py",
   "mimetype": "text/x-python",
   "name": "python",
   "nbconvert_exporter": "python",
   "pygments_lexer": "ipython3",
   "version": "3.8.6"
  }
 },
 "nbformat": 4,
 "nbformat_minor": 5
}
